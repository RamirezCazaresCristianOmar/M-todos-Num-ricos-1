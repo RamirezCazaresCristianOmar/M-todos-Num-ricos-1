{
  "nbformat": 4,
  "nbformat_minor": 0,
  "metadata": {
    "colab": {
      "provenance": [],
      "authorship_tag": "ABX9TyP0AfOeMtUC9XiCp8o/q1Tf",
      "include_colab_link": true
    },
    "kernelspec": {
      "name": "python3",
      "display_name": "Python 3"
    },
    "language_info": {
      "name": "python"
    }
  },
  "cells": [
    {
      "cell_type": "markdown",
      "metadata": {
        "id": "view-in-github",
        "colab_type": "text"
      },
      "source": [
        "<a href=\"https://colab.research.google.com/github/RamirezCazaresCristianOmar/M-todos-Num-ricos-1/blob/main/Decimal_a_Binario.ipynb\" target=\"_parent\"><img src=\"https://colab.research.google.com/assets/colab-badge.svg\" alt=\"Open In Colab\"/></a>"
      ]
    },
    {
      "cell_type": "code",
      "execution_count": null,
      "metadata": {
        "id": "ueXkrm8dRFdw"
      },
      "outputs": [],
      "source": [
        "\n",
        "def decimal_a_binario(numero, precision=8):\n",
        "    # Manejar el signo\n",
        "    signo = ''\n",
        "    if numero < 0:\n",
        "        signo = '-'\n",
        "        numero = abs(numero)\n",
        "\n",
        "    # Separar parte entera y fraccionaria\n",
        "    parte_entera = int(numero)\n",
        "    parte_fraccionaria = numero - parte_entera\n",
        "\n",
        "    # Convertir parte entera a binario\n",
        "    if parte_entera == 0:\n",
        "        bin_entero = '0'\n",
        "    else:\n",
        "        bin_entero = ''\n",
        "        while parte_entera > 0:\n",
        "            bin_entero = str(parte_entera % 2) + bin_entero\n",
        "            parte_entera = parte_entera // 2\n",
        "\n",
        "    # Convertir parte fraccionaria a binario\n",
        "    bin_fraccion = ''\n",
        "    for _ in range(precision):\n",
        "        parte_fraccionaria *= 2\n",
        "        bit = int(parte_fraccionaria)\n",
        "        bin_fraccion += str(bit)\n",
        "        parte_fraccionaria -= bit\n",
        "        if parte_fraccionaria == 0:\n",
        "            break\n",
        "\n",
        "    # Construir resultado final\n",
        "    resultado = signo + bin_entero\n",
        "    if bin_fraccion:\n",
        "        resultado += '.' + bin_fraccion\n",
        "\n",
        "    return resultado if resultado != '-0' else '0'\n",
        "\n",
        "# Ejemplos de uso\n",
        "print(decimal_a_binario(1022))       # Output: 1010.101\n",
        "print(decimal_a_binario(1022))        # Output: -11.11\n",
        "print(decimal_a_binario(0))          # Output: 0.00011001 (precisión de 8 bits)\n",
        "print(decimal_a_binario(0))          # Output: 101\n",
        "print(decimal_a_binario(0))            # Output: 0"
      ]
    }
  ]
}