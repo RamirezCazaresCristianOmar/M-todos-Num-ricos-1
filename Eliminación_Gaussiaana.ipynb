{
  "nbformat": 4,
  "nbformat_minor": 0,
  "metadata": {
    "colab": {
      "provenance": [],
      "authorship_tag": "ABX9TyMyk2WNjaHQs4f40syyiFYf",
      "include_colab_link": true
    },
    "kernelspec": {
      "name": "python3",
      "display_name": "Python 3"
    },
    "language_info": {
      "name": "python"
    }
  },
  "cells": [
    {
      "cell_type": "markdown",
      "metadata": {
        "id": "view-in-github",
        "colab_type": "text"
      },
      "source": [
        "<a href=\"https://colab.research.google.com/github/RamirezCazaresCristianOmar/M-todos-Num-ricos-1/blob/main/Eliminaci%C3%B3n_Gaussiaana.ipynb\" target=\"_parent\"><img src=\"https://colab.research.google.com/assets/colab-badge.svg\" alt=\"Open In Colab\"/></a>"
      ]
    },
    {
      "cell_type": "code",
      "execution_count": 4,
      "metadata": {
        "id": "ueXkrm8dRFdw"
      },
      "outputs": [],
      "source": [
        "import numpy as np"
      ]
    },
    {
      "cell_type": "code",
      "source": [
        "\n",
        "\n",
        "def eliminacion_gaussiana(A, b):\n",
        "    \"\"\"\n",
        "    Implementa el método de eliminación gaussiana para resolver sistemas de ecuaciones lineales\n",
        "    de la forma Ax = b, con pivoteo parcial para mayor estabilidad numérica.\n",
        "\n",
        "    Parámetros:\n",
        "    A: numpy.ndarray - Matriz de coeficientes\n",
        "    b: numpy.ndarray - Vector de términos independientes\n",
        "\n",
        "    Retorna:\n",
        "    x: numpy.ndarray - Vector solución del sistema\n",
        "    \"\"\"\n",
        "\n",
        "    # Convertimos las entradas a tipo float para cálculos más precisos\n",
        "    A = A.astype(np.float64)\n",
        "    b = b.astype(np.float64)\n",
        "    n = len(A)\n",
        "\n",
        "    # Hacemos una copia para no modificar las entradas originales\n",
        "    Ab = np.concatenate((A, b.reshape(n,1)), axis=1)\n",
        "\n",
        "    # Fase de eliminación hacia adelante con pivoteo parcial\n",
        "    for i in range(n):\n",
        "        # Encontrar el pivote máximo en la columna actual\n",
        "        pivot_row = i\n",
        "        for k in range(i + 1, n):\n",
        "            if abs(Ab[k][i]) > abs(Ab[pivot_row][i]):\n",
        "                pivot_row = k\n",
        "\n",
        "        # Intercambiar filas si es necesario\n",
        "        if pivot_row != i:\n",
        "            Ab[i], Ab[pivot_row] = Ab[pivot_row].copy(), Ab[i].copy()\n",
        "\n",
        "        # Verificar si el pivote es efectivamente cero\n",
        "        if abs(Ab[i][i]) < 1e-10:  # Tolerancia numérica\n",
        "            continue  # Intentamos continuar en lugar de detenernos\n",
        "\n",
        "        # Eliminación de variables\n",
        "        for j in range(i + 1, n):\n",
        "            if Ab[i][i] == 0:\n",
        "                continue\n",
        "            factor = Ab[j][i] / Ab[i][i]\n",
        "            Ab[j] = Ab[j] - factor * Ab[i]\n",
        "\n",
        "    # Fase de sustitución hacia atrás\n",
        "    x = np.zeros(n)\n",
        "    for i in range(n-1, -1, -1):\n",
        "        if abs(Ab[i][i]) < 1e-10:  # Verificar diagonal no cero\n",
        "            continue\n",
        "        suma = Ab[i][-1]\n",
        "        for j in range(i+1, n):\n",
        "            suma = suma - Ab[i][j] * x[j]\n",
        "        x[i] = suma / Ab[i][i]\n",
        "\n",
        "    return x\n",
        "\n",
        "# Definición del sistema de ecuaciones\n",
        "# E1: x1 − x2 + 2x3 − x4 = −8\n",
        "# E2: 2x1 − 2x2 + 3x3 − 3x4 = −20\n",
        "# E3: x1 + x2 + x3 = −2\n",
        "# E4: x1 − x2 + 4x3 + 3x4 = 4\n",
        "\n",
        "# Matriz de coeficientes A\n",
        "A = np.array([\n",
        "    [1, -1, 2, -1],  # E1\n",
        "    [2, -2, 3, -3],  # E2\n",
        "    [1, 1, 1, 0],    # E3\n",
        "    [1, -1, 4, 3]    # E4\n",
        "])\n",
        "\n",
        "# Vector de términos independientes b\n",
        "b = np.array([-8, -20, -2, 4])\n",
        "\n",
        "# Resolvemos el sistema\n",
        "solucion = eliminacion_gaussiana(A, b)\n",
        "\n",
        "# Imprimimos la solución redondeando a enteros\n",
        "print(\"Solución del sistema:\")\n",
        "for i, valor in enumerate(solucion, 1):\n",
        "    print(f\"x{i} = {int(round(valor))}\")"
      ],
      "metadata": {
        "colab": {
          "base_uri": "https://localhost:8080/"
        },
        "id": "8hj0BxC_0s2v",
        "outputId": "da306f95-9ffd-4360-db77-0031e0e60ac3"
      },
      "execution_count": 5,
      "outputs": [
        {
          "output_type": "stream",
          "name": "stdout",
          "text": [
            "Solución del sistema:\n",
            "x1 = -7\n",
            "x2 = 3\n",
            "x3 = 2\n",
            "x4 = 2\n"
          ]
        }
      ]
    }
  ]
}