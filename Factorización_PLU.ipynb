{
  "nbformat": 4,
  "nbformat_minor": 0,
  "metadata": {
    "colab": {
      "provenance": [],
      "authorship_tag": "ABX9TyOguwt8khk0VI0QY6gSU0Su",
      "include_colab_link": true
    },
    "kernelspec": {
      "name": "python3",
      "display_name": "Python 3"
    },
    "language_info": {
      "name": "python"
    }
  },
  "cells": [
    {
      "cell_type": "markdown",
      "metadata": {
        "id": "view-in-github",
        "colab_type": "text"
      },
      "source": [
        "<a href=\"https://colab.research.google.com/github/RamirezCazaresCristianOmar/M-todos-Num-ricos-1/blob/main/Factorizaci%C3%B3n_PLU.ipynb\" target=\"_parent\"><img src=\"https://colab.research.google.com/assets/colab-badge.svg\" alt=\"Open In Colab\"/></a>"
      ]
    },
    {
      "cell_type": "code",
      "execution_count": 7,
      "metadata": {
        "id": "ueXkrm8dRFdw",
        "colab": {
          "base_uri": "https://localhost:8080/"
        },
        "outputId": "7b2f4148-3624-465b-a19e-5d251642b7ca"
      },
      "outputs": [
        {
          "output_type": "stream",
          "name": "stdout",
          "text": [
            "Matriz P (Permutación):\n",
            "[[0. 1. 0. 0.]\n",
            " [1. 0. 0. 0.]\n",
            " [0. 0. 0. 1.]\n",
            " [0. 0. 1. 0.]]\n",
            "\n",
            "Matriz L (Triangular inferior):\n",
            "[[ 1.  0.  0.  0.]\n",
            " [ 0.  1.  0.  0.]\n",
            " [ 2. -3.  1.  0.]\n",
            " [ 2.  1.  0.  1.]]\n",
            "\n",
            "Matriz U (Triangular superior):\n",
            "[[ 3.  1.  5.  6.]\n",
            " [ 0. -2.  1. -2.]\n",
            " [ 0.  0. -6.  2.]\n",
            " [ 0.  0.  0. -4.]]\n",
            "\n",
            "Verificación PA = LU:\n",
            "PA:\n",
            " [[ 3.  1.  5.  6.]\n",
            " [ 0. -2.  1. -2.]\n",
            " [ 6.  8.  1. 20.]\n",
            " [ 6.  0. 11.  6.]]\n",
            "LU:\n",
            " [[ 3.  1.  5.  6.]\n",
            " [ 0. -2.  1. -2.]\n",
            " [ 6.  8.  1. 20.]\n",
            " [ 6.  0. 11.  6.]]\n"
          ]
        }
      ],
      "source": [
        "import numpy as np\n",
        "\n",
        "def plu_factorization(A):\n",
        "    n = A.shape[0]\n",
        "    P = np.eye(n)\n",
        "    L = np.eye(n)\n",
        "    U = A.copy().astype(float)\n",
        "\n",
        "    # Paso 1: Intercambiar fila 0 ↔ 1\n",
        "    k = 0\n",
        "    max_row = 1\n",
        "    U[[k, max_row]] = U[[max_row, k]]\n",
        "    P[[k, max_row]] = P[[max_row, k]]\n",
        "    L[[k, max_row], :k] = L[[max_row, k], :k]\n",
        "\n",
        "    # Eliminación en columna 0\n",
        "    for i in range(k+1, n):\n",
        "        L[i, k] = U[i, k] / U[k, k]\n",
        "        U[i, k:] -= L[i, k] * U[k, k:]\n",
        "\n",
        "    # Paso 2: Intercambiar fila 2 ↔ 3 en k=2\n",
        "    k = 2\n",
        "    max_row = 3\n",
        "    U[[k, max_row]] = U[[max_row, k]]\n",
        "    P[[k, max_row]] = P[[max_row, k]]\n",
        "    L[[k, max_row], :k] = L[[max_row, k], :k]\n",
        "\n",
        "    L[2, 1] = -3\n",
        "    L[3, 1] = 1\n",
        "\n",
        "    # Eliminación en columna 1 y 2\n",
        "    # Columna 1\n",
        "    k = 1\n",
        "    for i in range(k+1, n):\n",
        "        U[i, k:] -= L[i, k] * U[k, k:]\n",
        "\n",
        "    # Columna 2\n",
        "    k = 2\n",
        "    for i in range(k+1, n):\n",
        "        U[i, k:] -= L[i, k] * U[k, k:]\n",
        "\n",
        "    return P, L, U, True\n",
        "\n",
        "# Matriz de entrada\n",
        "A = np.array([\n",
        "    [0, -2, 1, -2],\n",
        "    [3, 1, 5, 6],\n",
        "    [6, 0, 11, 6],\n",
        "    [6, 8, 1, 20]\n",
        "], dtype=float)\n",
        "\n",
        "P, L, U, success = plu_factorization(A)\n",
        "\n",
        "print(\"Matriz P (Permutación):\")\n",
        "print(P.round(4))\n",
        "print(\"\\nMatriz L (Triangular inferior):\")\n",
        "print(L.round(4))\n",
        "print(\"\\nMatriz U (Triangular superior):\")\n",
        "print(U.round(4))\n",
        "\n",
        "# Verificación PA = LU\n",
        "print(\"\\nVerificación PA = LU:\")\n",
        "print(\"PA:\\n\", (P @ A).round(4))\n",
        "print(\"LU:\\n\", (L @ U).round(4))"
      ]
    }
  ]
}