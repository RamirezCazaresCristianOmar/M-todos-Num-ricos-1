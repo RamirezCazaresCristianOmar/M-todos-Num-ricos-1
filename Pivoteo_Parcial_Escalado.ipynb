{
  "nbformat": 4,
  "nbformat_minor": 0,
  "metadata": {
    "colab": {
      "provenance": [],
      "authorship_tag": "ABX9TyM0hGW0WBI0tBvq8mMGQdi3",
      "include_colab_link": true
    },
    "kernelspec": {
      "name": "python3",
      "display_name": "Python 3"
    },
    "language_info": {
      "name": "python"
    }
  },
  "cells": [
    {
      "cell_type": "markdown",
      "metadata": {
        "id": "view-in-github",
        "colab_type": "text"
      },
      "source": [
        "<a href=\"https://colab.research.google.com/github/RamirezCazaresCristianOmar/M-todos-Num-ricos-1/blob/main/Pivoteo_Parcial_Escalado.ipynb\" target=\"_parent\"><img src=\"https://colab.research.google.com/assets/colab-badge.svg\" alt=\"Open In Colab\"/></a>"
      ]
    },
    {
      "cell_type": "code",
      "execution_count": 1,
      "metadata": {
        "id": "ueXkrm8dRFdw"
      },
      "outputs": [],
      "source": [
        "import numpy as np"
      ]
    },
    {
      "cell_type": "code",
      "source": [
        "\n",
        "\n",
        "def pivoteo_parcial_escalado(A, b):\n",
        "\n",
        "    \"\"\"\n",
        "\n",
        "    Resuelve un sistema de ecuaciones lineales Ax = b usando el método del pivoteo parcial escalado.\n",
        "\n",
        "    Args:\n",
        "\n",
        "        A: Matriz de coeficientes (NumPy array) de forma (n, n)\n",
        "\n",
        "        b: Vector de términos independientes (NumPy array) de forma (n,)\n",
        "\n",
        "    Returns:\n",
        "\n",
        "        x: Vector solución (NumPy array) de forma (n,)\n",
        "\n",
        "        Raises ValueError si la matriz es singular o si las dimensiones de A y b son incompatibles.\n",
        "\n",
        "    \"\"\"\n",
        "\n",
        "    n = len(b)\n",
        "\n",
        "    if A.shape != (n, n):\n",
        "\n",
        "        raise ValueError(\"Las dimensiones de A y b son incompatibles.\")\n",
        "\n",
        "    factores_escala = np.max(np.abs(A), axis=1)\n",
        "\n",
        "    A_aumentada = np.concatenate((A, b.reshape(-1, 1)), axis=1)\n",
        "\n",
        "    for k in range(n - 1):\n",
        "\n",
        "        # Buscar el pivote\n",
        "\n",
        "        indice_pivote = np.argmax(np.abs(A_aumentada[k:, k]) / factores_escala[k:]) + k\n",
        "\n",
        "        if np.abs(A_aumentada[indice_pivote, k]) < 1e-10:\n",
        "\n",
        "            raise ValueError(\"La matriz es singular (o casi singular). No hay solución única.\")\n",
        "\n",
        "        # Intercambiar filas\n",
        "\n",
        "        A_aumentada[[k, indice_pivote]] = A_aumentada[[indice_pivote, k]]\n",
        "\n",
        "        factores_escala[[k, indice_pivote]] = factores_escala[[indice_pivote, k]]\n",
        "\n",
        "        # Eliminación hacia adelante\n",
        "\n",
        "        for i in range(k + 1, n):\n",
        "\n",
        "            factor = A_aumentada[i, k] / A_aumentada[k, k]\n",
        "\n",
        "            A_aumentada[i, k:] -= factor * A_aumentada[k, k:]\n",
        "\n",
        "    # Sustitución regresiva (CORREGIDA)\n",
        "\n",
        "    x = np.zeros(n)\n",
        "\n",
        "    x[n - 1] = A_aumentada[n - 1, n] / A_aumentada[n - 1, n - 1]\n",
        "\n",
        "    for i in range(n - 2, -1, -1):\n",
        "\n",
        "        x[i] = (A_aumentada[i, n] - np.dot(A_aumentada[i, i + 1:n], x[i + 1:n])) / A_aumentada[i, i]\n",
        "\n",
        "    return x\n",
        "\n",
        "# Ejemplo de uso\n",
        "\n",
        "A = np.array([[2.11, -4.21, 0.921],\n",
        "\n",
        "              [4.01, 10.2, -1.12],\n",
        "\n",
        "              [1.09, 0.987, 0.832]])\n",
        "\n",
        "b = np.array([2.01, -3.09, 4.21])\n",
        "\n",
        "try:\n",
        "\n",
        "    x = pivoteo_parcial_escalado(A, b)\n",
        "\n",
        "    print(\"La solución es:\")\n",
        "\n",
        "    for i in range(len(x)):\n",
        "\n",
        "        print(f\"x{i+1} = {x[i]:.3f}\")\n",
        "\n",
        "except ValueError as e:\n",
        "\n",
        "    print(f\"Error: {e}\")"
      ],
      "metadata": {
        "colab": {
          "base_uri": "https://localhost:8080/"
        },
        "id": "9dU6XFrZ0ANK",
        "outputId": "80491806-b141-496e-d998-961078e26f6c"
      },
      "execution_count": 3,
      "outputs": [
        {
          "output_type": "stream",
          "name": "stdout",
          "text": [
            "La solución es:\n",
            "x1 = -0.428\n",
            "x2 = 0.427\n",
            "x3 = 5.114\n"
          ]
        }
      ]
    }
  ]
}