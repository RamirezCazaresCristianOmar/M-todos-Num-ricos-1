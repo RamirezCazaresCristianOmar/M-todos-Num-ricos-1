{
  "cells": [
    {
      "cell_type": "markdown",
      "metadata": {
        "id": "view-in-github",
        "colab_type": "text"
      },
      "source": [
        "<a href=\"https://colab.research.google.com/github/RamirezCazaresCristianOmar/M-todos-Num-ricos-1/blob/main/Introduccion/graficas.ipynb\" target=\"_parent\"><img src=\"https://colab.research.google.com/assets/colab-badge.svg\" alt=\"Open In Colab\"/></a>"
      ]
    },
    {
      "cell_type": "markdown",
      "id": "671dd681",
      "metadata": {
        "id": "671dd681"
      },
      "source": [
        "# Gráfica de $f(x)=x - 3^{-x}$"
      ]
    },
    {
      "cell_type": "code",
      "execution_count": 1,
      "id": "50d8ebd2",
      "metadata": {
        "id": "50d8ebd2"
      },
      "outputs": [],
      "source": [
        "import matplotlib.pyplot as plt\n",
        "import numpy as np"
      ]
    },
    {
      "cell_type": "code",
      "execution_count": 23,
      "id": "7f3ddf27",
      "metadata": {
        "id": "7f3ddf27"
      },
      "outputs": [],
      "source": [
        "def g(x):\n",
        "    return x\n",
        "\n",
        "def h(x):\n",
        "    return x - 3**(-x)\n",
        "\n",
        "# Función cuadrática.\n",
        "def f(x):\n",
        "    return- 3**(-x)\n",
        "\n",
        "\n",
        "\n"
      ]
    },
    {
      "cell_type": "code",
      "source": [
        "f(-5),f(1)"
      ],
      "metadata": {
        "colab": {
          "base_uri": "https://localhost:8080/"
        },
        "id": "nTOcRug-Wpc6",
        "outputId": "c386bb80-0288-4b76-f50c-09288d3268e7"
      },
      "id": "nTOcRug-Wpc6",
      "execution_count": 7,
      "outputs": [
        {
          "output_type": "execute_result",
          "data": {
            "text/plain": [
              "(-248, 0.6666666666666667)"
            ]
          },
          "metadata": {},
          "execution_count": 7
        }
      ]
    },
    {
      "cell_type": "code",
      "execution_count": 14,
      "id": "4eae7125",
      "metadata": {
        "id": "4eae7125"
      },
      "outputs": [],
      "source": [
        "# Valores del eje X que toma el gráfico.\n",
        "x=np.linspace(-5, 5,100)"
      ]
    },
    {
      "cell_type": "code",
      "execution_count": 26,
      "id": "50c58368",
      "metadata": {
        "colab": {
          "base_uri": "https://localhost:8080/",
          "height": 160
        },
        "id": "50c58368",
        "outputId": "439db82d-2309-48fe-835c-93f407089184"
      },
      "outputs": [
        {
          "output_type": "display_data",
          "data": {
            "text/plain": [
              "<Figure size 100x100 with 1 Axes>"
            ],
            "image/png": "[encoded data removed]"
          },
          "metadata": {}
        }
      ],
      "source": [
        "# Graficar ambas funciones.\n",
        "plt.figure(figsize=(1,1)) #tamaño de la figura\n",
        "plt.plot(x, f(x))\n",
        "plt.plot(x ,g(x))\n",
        "plt.plot(x ,h(x))\n",
        "plt.axhline(0,  color=\"blue\")\n",
        "plt.axvline(0, color=\"black\")\n",
        "plt.xlim(-5, 5)\n",
        "plt.ylim(-5, 5)\n",
        "plt.title(\"suma de funciones\")\n",
        "#plt.savefig(\"output.png\") # Guardar gráfico como imágen PNG.\n",
        "# Mostrarlo.\n",
        "\n",
        "plt.grid(color=\"pink\")\n",
        "#muestra la grafica\n",
        "plt.show()\n"
      ]
    },
    {
      "cell_type": "markdown",
      "source": [
        "figura"
      ],
      "metadata": {
        "id": "Cj1aLETWhoJz"
      },
      "id": "Cj1aLETWhoJz"
    },
    {
      "cell_type": "markdown",
      "id": "7bbb009c",
      "metadata": {
        "id": "7bbb009c"
      },
      "source": [
        "Ejercicio 1: Graficar las funciones $x$ y $3^{-x}$ en una sola figura y comentar cómo su resta da origen a la gráfica de $f(x)$.\n",
        "\n",
        "Ejercicio 2: Agregar título, color, retícula, rótulos a los ejes y aumentar el tamaño de la gráfica."
      ]
    },
    {
      "cell_type": "code",
      "execution_count": null,
      "id": "81fc6931",
      "metadata": {
        "id": "81fc6931"
      },
      "outputs": [],
      "source": []
    }
  ],
  "metadata": {
    "kernelspec": {
      "display_name": "Python 3 (ipykernel)",
      "language": "python",
      "name": "python3"
    },
    "language_info": {
      "codemirror_mode": {
        "name": "ipython",
        "version": 3
      },
      "file_extension": ".py",
      "mimetype": "text/x-python",
      "name": "python",
      "nbconvert_exporter": "python",
      "pygments_lexer": "ipython3",
      "version": "3.7.3"
    },
    "colab": {
      "provenance": [],
      "include_colab_link": true
    }
  },
  "nbformat": 4,
  "nbformat_minor": 5
}