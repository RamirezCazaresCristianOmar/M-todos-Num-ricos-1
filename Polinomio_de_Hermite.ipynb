{
  "nbformat": 4,
  "nbformat_minor": 0,
  "metadata": {
    "colab": {
      "provenance": [],
      "authorship_tag": "ABX9TyMlRUDsnGJprqlR44gcyXtf",
      "include_colab_link": true
    },
    "kernelspec": {
      "name": "python3",
      "display_name": "Python 3"
    },
    "language_info": {
      "name": "python"
    }
  },
  "cells": [
    {
      "cell_type": "markdown",
      "metadata": {
        "id": "view-in-github",
        "colab_type": "text"
      },
      "source": [
        "<a href=\"https://colab.research.google.com/github/RamirezCazaresCristianOmar/M-todos-Num-ricos-1/blob/main/Polinomio_de_Hermite.ipynb\" target=\"_parent\"><img src=\"https://colab.research.google.com/assets/colab-badge.svg\" alt=\"Open In Colab\"/></a>"
      ]
    },
    {
      "cell_type": "code",
      "execution_count": 21,
      "metadata": {
        "id": "ueXkrm8dRFdw"
      },
      "outputs": [],
      "source": [
        "import numpy as np"
      ]
    },
    {
      "cell_type": "code",
      "source": [
        "def metodo_hermite(x_eval, xi, fi, fpi):\n",
        "    \"\"\"\n",
        "    Calcula el valor aproximado usando el método de interpolación de Hermite.\n",
        "\n",
        "    Parámetros:\n",
        "    x_eval (float): Punto donde se evaluará el polinomio de Hermite.\n",
        "    xi (list): Lista de puntos (nodos) x.\n",
        "    fi (list): Lista de valores de la función f(x) en los puntos xi.\n",
        "    fpi (list): Lista de valores de la derivada de la función f'(x) en los puntos xi.\n",
        "\n",
        "    Devuelve:\n",
        "    float: Valor aproximado al evaluar el polinomio de Hermite en x_eval.\n",
        "    numpy.ndarray: Tabla de diferencias divididas.\n",
        "    numpy.ndarray: Vector de nodos duplicados.\n",
        "    list: Tabla de resultados con los valores de los nodos, función, y diferencias divididas.\n",
        "    \"\"\"\n",
        "    n = len(xi)  # Número de puntos dados\n",
        "\n",
        "    # Crear una tabla de diferencias divididas (2n x 2n)\n",
        "    # Cada punto xi aparecerá dos veces en esta tabla:\n",
        "    # una para el valor de la función f(xi) y otra para la derivada f'(xi)\n",
        "    tabla = np.zeros((2 * n, 2 * n))\n",
        "    z = np.zeros(2 * n)  # Vector de nodos duplicados\n",
        "\n",
        "    # Inicializar los valores de la tabla con f(xi) y f'(xi)\n",
        "    for i in range(n):\n",
        "        z[2 * i] = z[2 * i + 1] = xi[i]  # Duplicar cada nodo\n",
        "        tabla[2 * i][0] = tabla[2 * i + 1][0] = fi[i]  # Valores de la función\n",
        "        tabla[2 * i + 1][1] = fpi[i]  # Valores de la derivada\n",
        "        if i > 0:\n",
        "            # Calcular las primeras diferencias divididas\n",
        "            tabla[2 * i][1] = (tabla[2 * i][0] - tabla[2 * i - 1][0]) / (z[2 * i] - z[2 * i - 1])\n",
        "\n",
        "    # Llenar las diferencias divididas superiores con un tratamiento especial\n",
        "    # para cuando los puntos son repetidos (z[i] == z[i - j])\n",
        "    for i in range(2, 2 * n):\n",
        "        for j in range(2, i + 1):\n",
        "            if z[i] == z[i - j]:\n",
        "                # Si los puntos son repetidos, asignamos directamente el valor de la derivada\n",
        "                tabla[i][j] = fpi[i // 2]\n",
        "            else:\n",
        "                # Caso general, calcular la diferencia dividida normal\n",
        "                tabla[i][j] = (tabla[i][j - 1] - tabla[i - 1][j - 1]) / (z[i] - z[i - j])\n",
        "\n",
        "    # Redondear la tabla para mejor visualización\n",
        "    tabla = np.round(tabla, 7)\n",
        "\n",
        "    # Obtener los coeficientes del polinomio de Hermite\n",
        "    # Cada coeficiente corresponde a un elemento en la diagonal principal de la tabla\n",
        "    coeficientes = [tabla[i][i] for i in range(2 * n)]\n",
        "\n",
        "    # Calcular el valor aproximado evaluando el polinomio de Hermite en x_eval\n",
        "    valor_aproximado = coeficientes[0]\n",
        "    termino = 1.0\n",
        "    for i in range(1, 2 * n):\n",
        "        # Multiplicar cada término por (x_eval - z[i-1])\n",
        "        termino *= (x_eval - z[i-1])\n",
        "        valor_aproximado += coeficientes[i] * termino\n",
        "\n",
        "    # Construir la tabla de resultados para mostrar\n",
        "    encabezados = [\"zi\", \"f(z)\", \"Primeras DD\", \"Segundas DD\", \"Terceras DD\", \"Cuartas DD\"]\n",
        "    tabla_hermite = [encabezados]\n",
        "    for i in range(2 * n):\n",
        "        fila = [z[i], tabla[i][0]]\n",
        "        for j in range(1, i + 1):\n",
        "            fila.append(tabla[i][j])\n",
        "        while len(fila) < len(encabezados):\n",
        "            fila.append(\"\")\n",
        "        tabla_hermite.append(fila)\n",
        "\n",
        "    return valor_aproximado, tabla, z, tabla_hermite\n",
        "\n",
        "# Valores iniciales para la tabla de Hermite\n",
        "xi = [1.3, 1.6, 1.9]  # Nodos\n",
        "fi = [0.6200860, 0.4554022, 0.2818186]  # Valores de la función\n",
        "fpi = [-0.5220232, -0.5698959, -0.5811571]  # Valores de las derivadas de la función\n",
        "x_eval = 1.5  # Punto donde evaluar el polinomio\n",
        "\n",
        "# Llamar a la función\n",
        "valor_aproximado, tabla, z, tabla_hermite = metodo_hermite(x_eval, xi, fi, fpi)\n",
        "\n",
        "# Mostrar la tabla completa de las diferencias divididas\n",
        "print(\"Tabla de Hermite:\")\n",
        "for fila in tabla_hermite:\n",
        "    print(fila)\n",
        "print(f\"El valor al evaluarlo en H({x_eval}) es = {valor_aproximado}\")"
      ],
      "metadata": {
        "colab": {
          "base_uri": "https://localhost:8080/"
        },
        "id": "owilDlbpRTw3",
        "outputId": "37d12929-83e1-4998-d8c6-7ae54b25c30f"
      },
      "execution_count": 35,
      "outputs": [
        {
          "output_type": "stream",
          "name": "stdout",
          "text": [
            "Tabla de Hermite:\n",
            "['zi', 'f(z)', 'Primeras DD', 'Segundas DD', 'Terceras DD', 'Cuartas DD']\n",
            "[1.3, 0.620086, '', '', '', '']\n",
            "[1.3, 0.620086, -0.5220232, '', '', '']\n",
            "[1.6, 0.4554022, -0.548946, -0.0897427, '', '']\n",
            "[1.6, 0.4554022, -0.5698959, -0.069833, 0.0663656, '']\n",
            "[1.9, 0.2818186, -0.578612, -0.0290537, 0.0679656, 0.0026667]\n",
            "[1.9, 0.2818186, -0.5811571, -0.0084837, 0.0685667, 0.0010019, -0.0027747]\n",
            "El valor al evaluarlo en H(1.5) es = 0.5118277002320001\n"
          ]
        }
      ]
    }
  ]
}