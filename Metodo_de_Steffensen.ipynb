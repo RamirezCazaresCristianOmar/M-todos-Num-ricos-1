{
  "cells": [
    {
      "cell_type": "markdown",
      "metadata": {
        "id": "view-in-github",
        "colab_type": "text"
      },
      "source": [
        "<a href=\"https://colab.research.google.com/github/RamirezCazaresCristianOmar/M-todos-Num-ricos-1/blob/main/Metodo_de_Steffensen.ipynb\" target=\"_parent\"><img src=\"https://colab.research.google.com/assets/colab-badge.svg\" alt=\"Open In Colab\"/></a>"
      ]
    },
    {
      "cell_type": "markdown",
      "id": "3154e14b",
      "metadata": {
        "id": "3154e14b"
      },
      "source": [
        "# Método de Steffensen\n"
      ]
    },
    {
      "cell_type": "markdown",
      "source": [
        "#Escribir un programa en Python que implemente el método de Steffensen (modificación del método de Aitken) para resolver ecuaciones no lineales.Como prueba, resuelva la ecuación $f(x) = cos(x) - 2x + 3 = 0$ con una precisión de $0.00001$"
      ],
      "metadata": {
        "id": "MkiRJNYyGV_f"
      },
      "id": "MkiRJNYyGV_f"
    },
    {
      "cell_type": "code",
      "execution_count": 1,
      "id": "9d5e2287",
      "metadata": {
        "id": "9d5e2287"
      },
      "outputs": [],
      "source": [
        "from math import *\n",
        "import numpy as np\n",
        "import matplotlib . pyplot as plt"
      ]
    },
    {
      "cell_type": "code",
      "execution_count": 37,
      "id": "db980446",
      "metadata": {
        "id": "db980446"
      },
      "outputs": [],
      "source": [
        "# Definimos la funcion original f(x)=cos(x) - 2x + 3\n",
        "def f(x):\n",
        "    return np.cos(x) - 2*x + 3"
      ]
    },
    {
      "cell_type": "markdown",
      "source": [
        "#Aqui tenemos que por medio de transformar la funcion $cos(x)−2x+3=0$, obtenemos como resultado lo siguiente ${cos(x)+3/3}$"
      ],
      "metadata": {
        "id": "--I4IzYRTeJN"
      },
      "id": "--I4IzYRTeJN"
    },
    {
      "cell_type": "code",
      "source": [
        "# Por el metodo de steffensen\n",
        "def g(x):  #funcion g(x)\n",
        "    return (np.cos(x) + 3) / 2 #la transformacion de la funcion"
      ],
      "metadata": {
        "id": "hxUeUTcYTyPl"
      },
      "id": "hxUeUTcYTyPl",
      "execution_count": 38,
      "outputs": []
    },
    {
      "cell_type": "code",
      "execution_count": 39,
      "id": "679a51af",
      "metadata": {
        "id": "679a51af"
      },
      "outputs": [],
      "source": [
        "# guarda valores iniciales\n",
        "P0=1\n",
        "#guarda valores iniciales del error y del número de iteraciones\n",
        "tol = 0.00001 #tolerancia\n",
        "nmax = 100 #numero maximo de iteraciones\n",
        "error = 100 #nos esta dando la indicacion que el erro comienza en 100\n",
        "niter = 0 #es el encargado de contar las iteraciones\n"
      ]
    },
    {
      "cell_type": "code",
      "execution_count": 40,
      "id": "6b4c08a0",
      "metadata": {
        "colab": {
          "base_uri": "https://localhost:8080/"
        },
        "id": "6b4c08a0",
        "outputId": "fd3f7551-034b-4c89-cc33-b9982b8d3972"
      },
      "outputs": [
        {
          "output_type": "stream",
          "name": "stdout",
          "text": [
            "# iter\t\t Xn \t\t Xn+1 \t\t αn \t\t error\n",
            "0 \t\t 1.000000 \t 1.770151 \t 0.000000 \t0.770151\n",
            "1 \t\t 1.770151 \t 1.400982 \t 1.337912 \t0.369170\n",
            "2 \t\t 1.400982 \t 1.584500 \t 1.615675 \t0.183518\n",
            "3 \t\t 1.584500 \t 1.493148 \t 1.477867 \t0.091351\n",
            "4 \t\t 1.493148 \t 1.538785 \t 1.546443 \t0.045637\n",
            "5 \t\t 1.538785 \t 1.516003 \t 1.512190 \t0.022782\n",
            "6 \t\t 1.516003 \t 1.527383 \t 1.529290 \t0.011380\n",
            "7 \t\t 1.527383 \t 1.521700 \t 1.520748 \t0.005683\n",
            "8 \t\t 1.521700 \t 1.524538 \t 1.525014 \t0.002839\n",
            "9 \t\t 1.524538 \t 1.523121 \t 1.522883 \t0.001418\n",
            "10 \t\t 1.523121 \t 1.523829 \t 1.523947 \t0.000708\n",
            "11 \t\t 1.523829 \t 1.523475 \t 1.523416 \t0.000354\n",
            "12 \t\t 1.523475 \t 1.523652 \t 1.523681 \t0.000177\n",
            "13 \t\t 1.523652 \t 1.523564 \t 1.523549 \t0.000088\n",
            "14 \t\t 1.523564 \t 1.523608 \t 1.523615 \t0.000044\n",
            "15 \t\t 1.523608 \t 1.523586 \t 1.523582 \t0.000022\n",
            "16 \t\t 1.523586 \t 1.523597 \t 1.523598 \t0.000011\n",
            "17 \t\t 1.523597 \t 1.523591 \t 1.523590 \t0.000005\n",
            "La solución para la ecuacion utilizando el método de steffensen en el intervalo [1,2] para P es = 1.523591\n",
            "Con un error de = 0.000005\n"
          ]
        }
      ],
      "source": [
        "#Metodo de steffensen\n",
        "\n",
        "# Ciclo iterativo de steffensen\n",
        "\n",
        "# Imprime los encabezados de las columnas\n",
        "print(\"# iter\\t\\t Xn \\t\\t Xn+1 \\t\\t αn \\t\\t error\")\n",
        "\n",
        "# El ciclo se ejecuta mientras el error sea mayor que la tolerancia y no se supere el número máximo de iteraciones\n",
        "while error > tol and niter < nmax + 1:\n",
        "\n",
        "    Xn1 = g(P0)  # Calcular Xn+1 evaluandolo en la funcion\n",
        "    Xn2 = g(Xn1)  # Calcular Xn+2 para proceder a ocuparlo para el calculo de alpha_n\n",
        "    error = abs(Xn1 - P0)  # Calcula el error como la diferencia absoluta entre el nuevo valor Xn+1 y el anterior P0\n",
        "\n",
        "    #calcular alphe_n usando la formula de steffensen\n",
        "    if niter == 0:\n",
        "        alpha_n = 0\n",
        "    elif niter < nmax:  # Corrección: if niter < nmax\n",
        "        alpha_n = Xn2 - ((Xn1 - P0) ** 2 / (Xn2 - 2 * Xn1 + P0))\n",
        "    else:\n",
        "        alpha_n = 0  # No se calcula alpha_n en la última iteración\n",
        "\n",
        "    # Imprimir los resultados de la iteración actual\n",
        "    print(\"{0} \\t\\t {1:6.6f} \\t {2:6.6f} \\t {3:6.6f} \\t{4:6.6f}\".format(niter, P0, Xn1, alpha_n, error))\n",
        "\n",
        "    P0 = Xn1  # Actualiza el valor de P0 con el nuevo valor Xn para la siguiente iteración\n",
        "    niter += 1  # Incrementa el contador de iteraciones\n",
        "\n",
        "# Imprime el resultado final, mostrando la solución aproximada y el error asociado\n",
        "print(\"La solución para la ecuacion utilizando el método de steffensen en el intervalo [1,2] para P es = {:6.6f}\".format(P0))\n",
        "print(\"Con un error de = {:6.6f}\".format(error))"
      ]
    },
    {
      "cell_type": "code",
      "source": [
        "x=np.linspace(-10,10,500)\n"
      ],
      "metadata": {
        "id": "GR-1Bh3YZmMO"
      },
      "execution_count": 58,
      "outputs": [],
      "id": "GR-1Bh3YZmMO"
    },
    {
      "cell_type": "code",
      "source": [
        "plt.plot(x,f(x), color=\"purple\")\n",
        "plt.plot(x,g(x), color=\"blue\")\n",
        "plt.axhline(0, color=\"black\")\n",
        "plt.axvline(0, color=\"black\")\n",
        "plt.title('Gráfica de Steffensen')\n",
        "plt.xlabel(\"Eje:x\")\n",
        "plt.ylabel(\"Eje:y\")\n",
        "plt.xlim(0, 3)\n",
        "plt.ylim(0, 3)\n",
        "plt.grid(color=\"pink\")\n",
        "# Coordenadas de la raiz\n",
        "x = [1.523586]\n",
        "y = [1.523597]\n",
        "plt.plot(x, y, \"o\", color=\"black\")\n",
        "plt.show()"
      ],
      "metadata": {
        "id": "EQoeIe0WMNav",
        "outputId": "061df306-f6cb-4aeb-d9c4-cd97d50121be",
        "colab": {
          "base_uri": "https://localhost:8080/",
          "height": 472
        }
      },
      "execution_count": 59,
      "outputs": [
        {
          "output_type": "display_data",
          "data": {
            "text/plain": [
              "<Figure size 640x480 with 1 Axes>"
            ],
            "image/png": "[encoded data removed]"
          },
          "metadata": {}
        }
      ],
      "id": "EQoeIe0WMNav"
    }
  ],
  "metadata": {
    "kernelspec": {
      "display_name": "Python 3 (ipykernel)",
      "language": "python",
      "name": "python3"
    },
    "language_info": {
      "codemirror_mode": {
        "name": "ipython",
        "version": 3
      },
      "file_extension": ".py",
      "mimetype": "text/x-python",
      "name": "python",
      "nbconvert_exporter": "python",
      "pygments_lexer": "ipython3",
      "version": "3.7.3"
    },
    "colab": {
      "provenance": [],
      "include_colab_link": true
    }
  },
  "nbformat": 4,
  "nbformat_minor": 5
}