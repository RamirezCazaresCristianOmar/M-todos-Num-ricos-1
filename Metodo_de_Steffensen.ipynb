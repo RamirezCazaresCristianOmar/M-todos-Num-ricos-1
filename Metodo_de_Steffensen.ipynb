{
  "cells": [
    {
      "cell_type": "markdown",
      "metadata": {
        "id": "view-in-github",
        "colab_type": "text"
      },
      "source": [
        "<a href=\"https://colab.research.google.com/github/RamirezCazaresCristianOmar/M-todos-Num-ricos-1/blob/main/Metodo_de_Steffensen.ipynb\" target=\"_parent\"><img src=\"https://colab.research.google.com/assets/colab-badge.svg\" alt=\"Open In Colab\"/></a>"
      ]
    },
    {
      "cell_type": "markdown",
      "id": "3154e14b",
      "metadata": {
        "id": "3154e14b"
      },
      "source": [
        "# Método de Steffensen\n"
      ]
    },
    {
      "cell_type": "markdown",
      "source": [
        "#Use el metodo de steffensen para determinar una solucion exacta dentro de $10^{-5}$ para $cos(x)-2x+3=0$ en [1.2].$Use P_0=1 $"
      ],
      "metadata": {
        "id": "MkiRJNYyGV_f"
      },
      "id": "MkiRJNYyGV_f"
    },
    {
      "cell_type": "code",
      "execution_count": null,
      "id": "9d5e2287",
      "metadata": {
        "id": "9d5e2287"
      },
      "outputs": [],
      "source": [
        "from math import *\n",
        "import numpy as np\n",
        "import matplotlib . pyplot as plt"
      ]
    },
    {
      "cell_type": "code",
      "execution_count": null,
      "id": "db980446",
      "metadata": {
        "id": "db980446"
      },
      "outputs": [],
      "source": [
        "# Definimos la funcion original f(x)=cos(x) - 2x + 3\n",
        "def f(x):\n",
        "    return cos(x) - 2*x + 3"
      ]
    },
    {
      "cell_type": "markdown",
      "source": [
        "#Aqui tenemos que por medio de transformar la funcion $cos(x)−2x+3=0$ nos da ${cos(x)+3/3}$"
      ],
      "metadata": {
        "id": "--I4IzYRTeJN"
      },
      "id": "--I4IzYRTeJN"
    },
    {
      "cell_type": "code",
      "source": [
        "# Por el metodo de steffensen\n",
        "def g(x):  #funcion g(x)\n",
        "    return (cos(x)+3)/2 #la transformacion de la funcion"
      ],
      "metadata": {
        "id": "hxUeUTcYTyPl"
      },
      "id": "hxUeUTcYTyPl",
      "execution_count": null,
      "outputs": []
    },
    {
      "cell_type": "code",
      "execution_count": null,
      "id": "679a51af",
      "metadata": {
        "id": "679a51af"
      },
      "outputs": [],
      "source": [
        "# guarda valores iniciales\n",
        "P0=1\n",
        "#guarda valores iniciales del error y del número de iteraciones\n",
        "tol = 0.00001 #tolerancia\n",
        "nmax = 100 #numero maximo de iteraciones\n",
        "error = 100 #nos esta dando la indicacion que el erro comienza en 100\n",
        "niter = 0 #es el encargado de contar las iteraciones"
      ]
    },
    {
      "cell_type": "code",
      "execution_count": null,
      "id": "6b4c08a0",
      "metadata": {
        "colab": {
          "base_uri": "https://localhost:8080/"
        },
        "id": "6b4c08a0",
        "outputId": "375535bb-a455-4ed6-ef9d-060afca89095"
      },
      "outputs": [
        {
          "output_type": "stream",
          "name": "stdout",
          "text": [
            "# iter\t\t Pn \t\t g(Pn) \t\t error\n",
            "0 \t 1.000000 \t 1.259921 \t 0.259921\n",
            "1 \t 1.259921 \t 1.312294 \t 0.052373\n",
            "2 \t 1.312294 \t 1.322354 \t 0.010060\n",
            "3 \t 1.322354 \t 1.324269 \t 0.001915\n",
            "La solución exacta utilizando el método de punto fijo en el intervalo [1,2] para es P = 1.324269 con un error de 0.001915\n"
          ]
        }
      ],
      "source": [
        "#Metodo de steffensen\n",
        "\n",
        "# Ciclo iterativo de steffensen\n",
        "\n",
        "# Imprime los encabezados de las columnas\n",
        "print(\"# iter\\t\\t Pn \\t\\t g(Pn) \\t\\t error\")\n",
        "\n",
        "# El ciclo se ejecuta mientras el error sea mayor que la tolerancia y no se supere el número máximo de iteraciones\n",
        "while error > tol and niter < nmax:\n",
        "\n",
        "    Pn = f(P0)  # Evalúa la función f en el punto actual P0\n",
        "    error = abs(Pn - P0)  # Calcula el error como la diferencia absoluta entre el nuevo valor Pn y el anterior P0\n",
        "\n",
        "    # Imprimir los resultados de la iteración actual\n",
        "    print(\"{:d} \\t {:6.6f} \\t {:6.6f} \\t {:6.6f}\".format(niter, P0, Pn, error))\n",
        "\n",
        "    P0 = Pn  # Actualiza el valor de P0 con el nuevo valor Pn para la siguiente iteración\n",
        "    niter += 1  # Incrementa el contador de iteraciones\n",
        "\n",
        "# Imprime el resultado final, mostrando la solución aproximada y el error asociado\n",
        "print(\"La solución exacta utilizando el método de steffensen en el intervalo [1,2] para es P = {:6.6f} con un error de {:6.6f}\".format(P0, error))"
      ]
    },
    {
      "cell_type": "code",
      "source": [
        "x=np.linspace(2,5,100)"
      ],
      "metadata": {
        "id": "GR-1Bh3YZmMO"
      },
      "execution_count": null,
      "outputs": [],
      "id": "GR-1Bh3YZmMO"
    },
    {
      "cell_type": "code",
      "source": [
        "plt.plot(f(x)) #funcion f(x)\n",
        "plt.axhline(0, color=\"black\")\n",
        "plt.axvline(0, color=\"black\")"
      ],
      "metadata": {
        "id": "EQoeIe0WMNav",
        "outputId": "01c7c7e5-9542-4e01-b72f-0d772499f85f",
        "colab": {
          "base_uri": "https://localhost:8080/",
          "height": 447
        }
      },
      "execution_count": null,
      "outputs": [
        {
          "output_type": "execute_result",
          "data": {
            "text/plain": [
              "<matplotlib.lines.Line2D at 0x7deb683efbb0>"
            ]
          },
          "metadata": {},
          "execution_count": 51
        },
        {
          "output_type": "display_data",
          "data": {
            "text/plain": [
              "<Figure size 640x480 with 1 Axes>"
            ],
            "image/png": "[encoded data removed]"
          },
          "metadata": {}
        }
      ],
      "id": "EQoeIe0WMNav"
    }
  ],
  "metadata": {
    "kernelspec": {
      "display_name": "Python 3 (ipykernel)",
      "language": "python",
      "name": "python3"
    },
    "language_info": {
      "codemirror_mode": {
        "name": "ipython",
        "version": 3
      },
      "file_extension": ".py",
      "mimetype": "text/x-python",
      "name": "python",
      "nbconvert_exporter": "python",
      "pygments_lexer": "ipython3",
      "version": "3.7.3"
    },
    "colab": {
      "provenance": [],
      "include_colab_link": true
    }
  },
  "nbformat": 4,
  "nbformat_minor": 5
}