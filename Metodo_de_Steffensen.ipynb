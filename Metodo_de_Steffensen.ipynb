{
  "cells": [
    {
      "cell_type": "markdown",
      "metadata": {
        "id": "view-in-github",
        "colab_type": "text"
      },
      "source": [
        "<a href=\"https://colab.research.google.com/github/RamirezCazaresCristianOmar/M-todos-Num-ricos-1/blob/main/Metodo_de_Steffensen.ipynb\" target=\"_parent\"><img src=\"https://colab.research.google.com/assets/colab-badge.svg\" alt=\"Open In Colab\"/></a>"
      ]
    },
    {
      "cell_type": "markdown",
      "id": "3154e14b",
      "metadata": {
        "id": "3154e14b"
      },
      "source": [
        "# Método de Steffensen\n"
      ]
    },
    {
      "cell_type": "markdown",
      "source": [
        "#Use el metodo de steffensen para determinar una solucion exacta dentro de $10^{-5}$ para $cos(x)-2x+3=0$ en [1.2].$Use P_0=1 $"
      ],
      "metadata": {
        "id": "MkiRJNYyGV_f"
      },
      "id": "MkiRJNYyGV_f"
    },
    {
      "cell_type": "code",
      "execution_count": 26,
      "id": "9d5e2287",
      "metadata": {
        "id": "9d5e2287"
      },
      "outputs": [],
      "source": [
        "from math import *\n",
        "import numpy as np\n",
        "import matplotlib . pyplot as plt"
      ]
    },
    {
      "cell_type": "code",
      "execution_count": 50,
      "id": "db980446",
      "metadata": {
        "id": "db980446"
      },
      "outputs": [],
      "source": [
        "# Definimos la funcion original f(x)=cos(x) - 2x + 3\n",
        "def f(x):\n",
        "    return cos(x) - 2*x + 3"
      ]
    },
    {
      "cell_type": "markdown",
      "source": [
        "#Aqui tenemos que por medio de transformar la funcion $cos(x)−2x+3=0$ nos da ${cos(x)+3/3}$"
      ],
      "metadata": {
        "id": "--I4IzYRTeJN"
      },
      "id": "--I4IzYRTeJN"
    },
    {
      "cell_type": "code",
      "source": [
        "# Por el metodo de steffensen\n",
        "def g(x):  #funcion g(x)\n",
        "    return (cos(x) + 3) / 2 #la transformacion de la funcion"
      ],
      "metadata": {
        "id": "hxUeUTcYTyPl"
      },
      "id": "hxUeUTcYTyPl",
      "execution_count": 42,
      "outputs": []
    },
    {
      "cell_type": "code",
      "execution_count": 43,
      "id": "679a51af",
      "metadata": {
        "id": "679a51af"
      },
      "outputs": [],
      "source": [
        "# guarda valores iniciales\n",
        "P0=1\n",
        "#guarda valores iniciales del error y del número de iteraciones\n",
        "tol = 0.00001 #tolerancia\n",
        "nmax = 100 #numero maximo de iteraciones\n",
        "error = 100 #nos esta dando la indicacion que el erro comienza en 100\n",
        "niter = 0 #es el encargado de contar las iteraciones"
      ]
    },
    {
      "cell_type": "code",
      "execution_count": 44,
      "id": "6b4c08a0",
      "metadata": {
        "colab": {
          "base_uri": "https://localhost:8080/"
        },
        "id": "6b4c08a0",
        "outputId": "86eaac05-fada-491d-e95b-b8627f910d0e"
      },
      "outputs": [
        {
          "output_type": "stream",
          "name": "stdout",
          "text": [
            "# iter\t\t Pn \t\t g(Pn) \t\t error\n",
            "0 \t 1.000000 \t 1.770151 \t 0.770151\n",
            "1 \t 1.770151 \t 1.400982 \t 0.369170\n",
            "2 \t 1.400982 \t 1.584500 \t 0.183518\n",
            "3 \t 1.584500 \t 1.493148 \t 0.091351\n",
            "4 \t 1.493148 \t 1.538785 \t 0.045637\n",
            "5 \t 1.538785 \t 1.516003 \t 0.022782\n",
            "6 \t 1.516003 \t 1.527383 \t 0.011380\n",
            "7 \t 1.527383 \t 1.521700 \t 0.005683\n",
            "8 \t 1.521700 \t 1.524538 \t 0.002839\n",
            "9 \t 1.524538 \t 1.523121 \t 0.001418\n",
            "10 \t 1.523121 \t 1.523829 \t 0.000708\n",
            "11 \t 1.523829 \t 1.523475 \t 0.000354\n",
            "12 \t 1.523475 \t 1.523652 \t 0.000177\n",
            "13 \t 1.523652 \t 1.523564 \t 0.000088\n",
            "14 \t 1.523564 \t 1.523608 \t 0.000044\n",
            "15 \t 1.523608 \t 1.523586 \t 0.000022\n",
            "16 \t 1.523586 \t 1.523597 \t 0.000011\n",
            "17 \t 1.523597 \t 1.523591 \t 0.000005\n",
            "La solución exacta utilizando el método de steffensen en el intervalo [1,2] para es P = 1.523591 con un error de 0.000005\n"
          ]
        }
      ],
      "source": [
        "#Metodo de steffensen\n",
        "\n",
        "# Ciclo iterativo de steffensen\n",
        "\n",
        "# Imprime los encabezados de las columnas\n",
        "print(\"# iter\\t\\t Pn \\t\\t g(Pn) \\t\\t error\")\n",
        "\n",
        "# El ciclo se ejecuta mientras el error sea mayor que la tolerancia y no se supere el número máximo de iteraciones\n",
        "while error > tol and niter < nmax:\n",
        "\n",
        "    Pn = g(P0)  # Evalúa la función f en el punto actual P0\n",
        "    error = abs(Pn - P0)  # Calcula el error como la diferencia absoluta entre el nuevo valor Pn y el anterior P0\n",
        "\n",
        "    # Imprimir los resultados de la iteración actual\n",
        "    print(\"{:d} \\t {:6.6f} \\t {:6.6f} \\t {:6.6f}\".format(niter, P0, Pn, error))\n",
        "\n",
        "    P0 = Pn  # Actualiza el valor de P0 con el nuevo valor Pn para la siguiente iteración\n",
        "    niter += 1  # Incrementa el contador de iteraciones\n",
        "\n",
        "# Imprime el resultado final, mostrando la solución aproximada y el error asociado\n",
        "print(\"La solución exacta utilizando el método de steffensen en el intervalo [1,2] para es P = {:6.6f} con un error de {:6.6f}\".format(P0, error))"
      ]
    },
    {
      "cell_type": "code",
      "source": [
        "x=np.linspace(2,5,100)\n"
      ],
      "metadata": {
        "id": "GR-1Bh3YZmMO"
      },
      "execution_count": 52,
      "outputs": [],
      "id": "GR-1Bh3YZmMO"
    },
    {
      "cell_type": "code",
      "source": [
        "plt.plot(f(x)) #funcion f(x)\n",
        "plt.plot(g(x)) #transformacion de la funcion g(x)\n",
        "plt.axhline(0, color=\"black\")\n",
        "plt.axvline(0, color=\"black\")"
      ],
      "metadata": {
        "id": "EQoeIe0WMNav",
        "outputId": "bcf3e3de-982e-4b96-a9f9-f4e14fb4384a",
        "colab": {
          "base_uri": "https://localhost:8080/",
          "height": 280
        }
      },
      "execution_count": 53,
      "outputs": [
        {
          "output_type": "error",
          "ename": "TypeError",
          "evalue": "only length-1 arrays can be converted to Python scalars",
          "traceback": [
            "\u001b[0;31m---------------------------------------------------------------------------\u001b[0m",
            "\u001b[0;31mTypeError\u001b[0m                                 Traceback (most recent call last)",
            "\u001b[0;32m<ipython-input-53-667404f8f58c>\u001b[0m in \u001b[0;36m<cell line: 1>\u001b[0;34m()\u001b[0m\n\u001b[0;32m----> 1\u001b[0;31m \u001b[0mplt\u001b[0m\u001b[0;34m.\u001b[0m\u001b[0mplot\u001b[0m\u001b[0;34m(\u001b[0m\u001b[0mf\u001b[0m\u001b[0;34m(\u001b[0m\u001b[0mx\u001b[0m\u001b[0;34m)\u001b[0m\u001b[0;34m)\u001b[0m \u001b[0;31m#funcion f(x)\u001b[0m\u001b[0;34m\u001b[0m\u001b[0;34m\u001b[0m\u001b[0m\n\u001b[0m\u001b[1;32m      2\u001b[0m \u001b[0mplt\u001b[0m\u001b[0;34m.\u001b[0m\u001b[0mplot\u001b[0m\u001b[0;34m(\u001b[0m\u001b[0mg\u001b[0m\u001b[0;34m(\u001b[0m\u001b[0mx\u001b[0m\u001b[0;34m)\u001b[0m\u001b[0;34m)\u001b[0m \u001b[0;31m#transformacion de la funcion g(x)\u001b[0m\u001b[0;34m\u001b[0m\u001b[0;34m\u001b[0m\u001b[0m\n\u001b[1;32m      3\u001b[0m \u001b[0mplt\u001b[0m\u001b[0;34m.\u001b[0m\u001b[0maxhline\u001b[0m\u001b[0;34m(\u001b[0m\u001b[0;36m0\u001b[0m\u001b[0;34m,\u001b[0m \u001b[0mcolor\u001b[0m\u001b[0;34m=\u001b[0m\u001b[0;34m\"black\"\u001b[0m\u001b[0;34m)\u001b[0m\u001b[0;34m\u001b[0m\u001b[0;34m\u001b[0m\u001b[0m\n\u001b[1;32m      4\u001b[0m \u001b[0mplt\u001b[0m\u001b[0;34m.\u001b[0m\u001b[0maxvline\u001b[0m\u001b[0;34m(\u001b[0m\u001b[0;36m0\u001b[0m\u001b[0;34m,\u001b[0m \u001b[0mcolor\u001b[0m\u001b[0;34m=\u001b[0m\u001b[0;34m\"black\"\u001b[0m\u001b[0;34m)\u001b[0m\u001b[0;34m\u001b[0m\u001b[0;34m\u001b[0m\u001b[0m\n",
            "\u001b[0;32m<ipython-input-50-9c1edf2c018f>\u001b[0m in \u001b[0;36mf\u001b[0;34m(x)\u001b[0m\n\u001b[1;32m      1\u001b[0m \u001b[0;31m# Definimos la funcion original f(x)=cos(x) - 2x + 3\u001b[0m\u001b[0;34m\u001b[0m\u001b[0;34m\u001b[0m\u001b[0m\n\u001b[1;32m      2\u001b[0m \u001b[0;32mdef\u001b[0m \u001b[0mf\u001b[0m\u001b[0;34m(\u001b[0m\u001b[0mx\u001b[0m\u001b[0;34m)\u001b[0m\u001b[0;34m:\u001b[0m\u001b[0;34m\u001b[0m\u001b[0;34m\u001b[0m\u001b[0m\n\u001b[0;32m----> 3\u001b[0;31m     \u001b[0;32mreturn\u001b[0m \u001b[0mcos\u001b[0m\u001b[0;34m(\u001b[0m\u001b[0mx\u001b[0m\u001b[0;34m)\u001b[0m \u001b[0;34m-\u001b[0m \u001b[0;36m2\u001b[0m\u001b[0;34m*\u001b[0m\u001b[0mx\u001b[0m \u001b[0;34m+\u001b[0m \u001b[0;36m3\u001b[0m\u001b[0;34m\u001b[0m\u001b[0;34m\u001b[0m\u001b[0m\n\u001b[0m",
            "\u001b[0;31mTypeError\u001b[0m: only length-1 arrays can be converted to Python scalars"
          ]
        }
      ],
      "id": "EQoeIe0WMNav"
    }
  ],
  "metadata": {
    "kernelspec": {
      "display_name": "Python 3 (ipykernel)",
      "language": "python",
      "name": "python3"
    },
    "language_info": {
      "codemirror_mode": {
        "name": "ipython",
        "version": 3
      },
      "file_extension": ".py",
      "mimetype": "text/x-python",
      "name": "python",
      "nbconvert_exporter": "python",
      "pygments_lexer": "ipython3",
      "version": "3.7.3"
    },
    "colab": {
      "provenance": [],
      "include_colab_link": true
    }
  },
  "nbformat": 4,
  "nbformat_minor": 5
}