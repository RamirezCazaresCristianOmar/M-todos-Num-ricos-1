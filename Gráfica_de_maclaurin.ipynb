{
  "cells": [
    {
      "cell_type": "markdown",
      "metadata": {
        "id": "view-in-github",
        "colab_type": "text"
      },
      "source": [
        "<a href=\"https://colab.research.google.com/github/RamirezCazaresCristianOmar/M-todos-Num-ricos-1/blob/main/Gr%C3%A1fica_de_maclaurin.ipynb\" target=\"_parent\"><img src=\"https://colab.research.google.com/assets/colab-badge.svg\" alt=\"Open In Colab\"/></a>"
      ]
    },
    {
      "cell_type": "markdown",
      "id": "671dd681",
      "metadata": {
        "id": "671dd681"
      },
      "source": [
        "# Gráfica de $f(x)=x^{x/2}  sen{(x/3)}$"
      ]
    },
    {
      "cell_type": "code",
      "execution_count": null,
      "id": "50d8ebd2",
      "metadata": {
        "id": "50d8ebd2"
      },
      "outputs": [],
      "source": [
        "import matplotlib.pyplot as plt\n",
        "import numpy as np"
      ]
    },
    {
      "cell_type": "code",
      "execution_count": null,
      "id": "7f3ddf27",
      "metadata": {
        "id": "7f3ddf27"
      },
      "outputs": [],
      "source": [
        "def g(x):\n",
        "    return x\n",
        "\n",
        "def h(x):\n",
        "    return x - 3**(-x)\n",
        "\n",
        "# Función cuadrática.\n",
        "def f(x):\n",
        "    return- 3**(-x)"
      ]
    },
    {
      "cell_type": "code",
      "source": [
        "f(-5),f(1)"
      ],
      "metadata": {
        "colab": {
          "base_uri": "https://localhost:8080/"
        },
        "id": "nTOcRug-Wpc6",
        "outputId": "e61a43d6-237c-4332-9090-e3cc5fb938cb"
      },
      "id": "nTOcRug-Wpc6",
      "execution_count": null,
      "outputs": [
        {
          "output_type": "execute_result",
          "data": {
            "text/plain": [
              "(-243, -0.3333333333333333)"
            ]
          },
          "metadata": {},
          "execution_count": 3
        }
      ]
    },
    {
      "cell_type": "code",
      "execution_count": null,
      "id": "4eae7125",
      "metadata": {
        "id": "4eae7125"
      },
      "outputs": [],
      "source": [
        "# Valores del eje X que toma el gráfico.\n",
        "x=np.linspace(-5, 5,100)"
      ]
    },
    {
      "cell_type": "code",
      "source": [
        "!plp instalo sympy"
      ],
      "metadata": {
        "colab": {
          "base_uri": "https://localhost:8080/"
        },
        "id": "PRuruMt0RPLl",
        "outputId": "b0ecfb53-0d31-4dfe-a89e-57af0dc5e9df"
      },
      "id": "PRuruMt0RPLl",
      "execution_count": null,
      "outputs": [
        {
          "output_type": "stream",
          "name": "stdout",
          "text": [
            "/bin/bash: line 1: plp: command not found\n"
          ]
        }
      ]
    },
    {
      "cell_type": "code",
      "source": [
        "import sympy as spy\n",
        "\n",
        "x = spy.Symbol('x')\n",
        "g=spy.exp(x/2)*spy.sin(x/3)\n",
        "# calcular la primera derivada\n",
        "f_uno= spy.diff(g, x)\n",
        "print(g)\n",
        "print(f_uno)"
      ],
      "metadata": {
        "colab": {
          "base_uri": "https://localhost:8080/"
        },
        "id": "aUKsxryZRLlb",
        "outputId": "6c4f52ca-39bd-4687-f030-af97d1b8755c"
      },
      "id": "aUKsxryZRLlb",
      "execution_count": null,
      "outputs": [
        {
          "output_type": "stream",
          "name": "stdout",
          "text": [
            "exp(x/2)*sin(x/3)\n",
            "exp(x/2)*sin(x/3)/2 + exp(x/2)*cos(x/3)/3\n"
          ]
        }
      ]
    },
    {
      "cell_type": "code",
      "source": [
        "# calcular la segunda derivada\n",
        "f_dos= spy.diff(x)\n",
        "print(f_dos)"
      ],
      "metadata": {
        "colab": {
          "base_uri": "https://localhost:8080/"
        },
        "id": "UXxuZYxjRSQz",
        "outputId": "918396d0-9531-46c5-ab64-494cbab6e35a"
      },
      "id": "UXxuZYxjRSQz",
      "execution_count": null,
      "outputs": [
        {
          "output_type": "stream",
          "name": "stdout",
          "text": [
            "1\n"
          ]
        }
      ]
    },
    {
      "cell_type": "code",
      "source": [
        "# calcular la tercera derivada\n",
        "f_tres= spy.diff(x)\n",
        "print(f_tres)"
      ],
      "metadata": {
        "colab": {
          "base_uri": "https://localhost:8080/"
        },
        "id": "Z2cZSPjRRSxP",
        "outputId": "878609af-784f-49e6-eefd-d71f02e18eed"
      },
      "id": "Z2cZSPjRRSxP",
      "execution_count": null,
      "outputs": [
        {
          "output_type": "stream",
          "name": "stdout",
          "text": [
            "1\n"
          ]
        }
      ]
    },
    {
      "cell_type": "code",
      "source": [
        "# calcular la cuarta derivada\n",
        "f_cuatro= spy.diff(x)\n",
        "print(f_cuatro)"
      ],
      "metadata": {
        "colab": {
          "base_uri": "https://localhost:8080/"
        },
        "id": "A8YlluMwRS_g",
        "outputId": "f406661d-0cbb-42c5-8524-cd560925fa85"
      },
      "id": "A8YlluMwRS_g",
      "execution_count": null,
      "outputs": [
        {
          "output_type": "stream",
          "name": "stdout",
          "text": [
            "1\n"
          ]
        }
      ]
    },
    {
      "cell_type": "code",
      "source": [
        "\n",
        "import matplotlib.pyplot as plt\n",
        "\n",
        "def f(x):\n",
        " return np.exp(x/2)*np.sin(x/3)\n",
        "#crear un rango de valores para x\n",
        "x=np.linspace(-10,10,400)\n",
        "\n",
        "def g(x)=\n",
        " return np.(1/3)x\n",
        "\n",
        "def h(x)=\n",
        " return np.(1/3)*x+np.(1/6)*np*2\n",
        "\n",
        "def i(x)=\n",
        " return np.\n",
        "#calcular los valores de la función\n",
        "y=f(x)"
      ],
      "metadata": {
        "colab": {
          "base_uri": "https://localhost:8080/",
          "height": 124
        },
        "id": "12pVjFGzRrcw",
        "outputId": "1d45fe09-0449-4feb-e4c6-fc606eee4bd0"
      },
      "id": "12pVjFGzRrcw",
      "execution_count": null,
      "outputs": [
        {
          "output_type": "error",
          "ename": "SyntaxError",
          "evalue": "expected ':' (<ipython-input-15-e19cac796b92>, line 8)",
          "traceback": [
            "\u001b[0;36m  File \u001b[0;32m\"<ipython-input-15-e19cac796b92>\"\u001b[0;36m, line \u001b[0;32m8\u001b[0m\n\u001b[0;31m    def g(x)=\u001b[0m\n\u001b[0m            ^\u001b[0m\n\u001b[0;31mSyntaxError\u001b[0m\u001b[0;31m:\u001b[0m expected ':'\n"
          ]
        }
      ]
    },
    {
      "cell_type": "code",
      "execution_count": null,
      "id": "50c58368",
      "metadata": {
        "colab": {
          "base_uri": "https://localhost:8080/",
          "height": 513
        },
        "id": "50c58368",
        "outputId": "4dc9e1f5-e4db-42d2-9e65-42344b7a91f1"
      },
      "outputs": [
        {
          "output_type": "error",
          "ename": "TypeError",
          "evalue": "'Mul' object is not callable",
          "traceback": [
            "\u001b[0;31m---------------------------------------------------------------------------\u001b[0m",
            "\u001b[0;31mTypeError\u001b[0m                                 Traceback (most recent call last)",
            "\u001b[0;32m<ipython-input-14-8ab388f189f6>\u001b[0m in \u001b[0;36m<cell line: 4>\u001b[0;34m()\u001b[0m\n\u001b[1;32m      2\u001b[0m \u001b[0mplt\u001b[0m\u001b[0;34m.\u001b[0m\u001b[0mfigure\u001b[0m\u001b[0;34m(\u001b[0m\u001b[0mfigsize\u001b[0m\u001b[0;34m=\u001b[0m\u001b[0;34m(\u001b[0m\u001b[0;36m8\u001b[0m\u001b[0;34m,\u001b[0m\u001b[0;36m6\u001b[0m\u001b[0;34m)\u001b[0m\u001b[0;34m)\u001b[0m\u001b[0;34m\u001b[0m\u001b[0;34m\u001b[0m\u001b[0m\n\u001b[1;32m      3\u001b[0m \u001b[0mplt\u001b[0m\u001b[0;34m.\u001b[0m\u001b[0mplot\u001b[0m\u001b[0;34m(\u001b[0m\u001b[0mx\u001b[0m\u001b[0;34m,\u001b[0m \u001b[0mf\u001b[0m\u001b[0;34m(\u001b[0m\u001b[0mx\u001b[0m\u001b[0;34m)\u001b[0m\u001b[0;34m)\u001b[0m\u001b[0;34m\u001b[0m\u001b[0;34m\u001b[0m\u001b[0m\n\u001b[0;32m----> 4\u001b[0;31m \u001b[0mplt\u001b[0m\u001b[0;34m.\u001b[0m\u001b[0mplot\u001b[0m\u001b[0;34m(\u001b[0m\u001b[0mx\u001b[0m \u001b[0;34m,\u001b[0m\u001b[0mg\u001b[0m\u001b[0;34m(\u001b[0m\u001b[0mx\u001b[0m\u001b[0;34m)\u001b[0m\u001b[0;34m)\u001b[0m\u001b[0;34m\u001b[0m\u001b[0;34m\u001b[0m\u001b[0m\n\u001b[0m\u001b[1;32m      5\u001b[0m \u001b[0mplt\u001b[0m\u001b[0;34m.\u001b[0m\u001b[0mplot\u001b[0m\u001b[0;34m(\u001b[0m\u001b[0mx\u001b[0m \u001b[0;34m,\u001b[0m\u001b[0mh\u001b[0m\u001b[0;34m(\u001b[0m\u001b[0mx\u001b[0m\u001b[0;34m)\u001b[0m\u001b[0;34m)\u001b[0m\u001b[0;34m\u001b[0m\u001b[0;34m\u001b[0m\u001b[0m\n\u001b[1;32m      6\u001b[0m \u001b[0mplt\u001b[0m\u001b[0;34m.\u001b[0m\u001b[0maxhline\u001b[0m\u001b[0;34m(\u001b[0m\u001b[0;36m0\u001b[0m\u001b[0;34m,\u001b[0m  \u001b[0mcolor\u001b[0m\u001b[0;34m=\u001b[0m\u001b[0;34m\"blue\"\u001b[0m\u001b[0;34m)\u001b[0m\u001b[0;34m\u001b[0m\u001b[0;34m\u001b[0m\u001b[0m\n",
            "\u001b[0;31mTypeError\u001b[0m: 'Mul' object is not callable"
          ]
        },
        {
          "output_type": "display_data",
          "data": {
            "text/plain": [
              "<Figure size 800x600 with 1 Axes>"
            ],
            "image/png": "[encoded data removed]"
          },
          "metadata": {}
        }
      ],
      "source": [
        "# Graficar ambas funciones.\n",
        "plt.figure(figsize=(8,6))\n",
        "plt.plot(x, f(x))\n",
        "plt.plot(x ,g(x))\n",
        "plt.plot(x ,h(x))\n",
        "plt.axhline(0,  color=\"blue\")\n",
        "plt.axvline(0, color=\"black\")\n",
        "plt.xlim(-5, 5)\n",
        "plt.ylim(-5, 5)\n",
        "plt.title(\"Gráfica del polinomio de maclaurin\")\n",
        "#plt.savefig(\"output.png\") # Guardar gráfico como imágen PNG.\n",
        "# Mostrarlo.\n",
        "\n",
        "plt.grid(color=\"pink\")\n",
        "#muestra la grafica\n",
        "plt.show()"
      ]
    },
    {
      "cell_type": "markdown",
      "source": [
        "figura"
      ],
      "metadata": {
        "id": "Cj1aLETWhoJz"
      },
      "id": "Cj1aLETWhoJz"
    },
    {
      "cell_type": "markdown",
      "id": "7bbb009c",
      "metadata": {
        "id": "7bbb009c"
      },
      "source": [
        "Ejercicio 1: Graficar las funciones $x$ y $3^{-x}$ en una sola figura y comentar cómo su resta da origen a la gráfica de $f(x)$.\n",
        "\n",
        "Ejercicio 2: Agregar título, color, retícula, rótulos a los ejes y aumentar el tamaño de la gráfica."
      ]
    },
    {
      "cell_type": "code",
      "execution_count": null,
      "id": "81fc6931",
      "metadata": {
        "id": "81fc6931"
      },
      "outputs": [],
      "source": []
    }
  ],
  "metadata": {
    "kernelspec": {
      "display_name": "Python 3 (ipykernel)",
      "language": "python",
      "name": "python3"
    },
    "language_info": {
      "codemirror_mode": {
        "name": "ipython",
        "version": 3
      },
      "file_extension": ".py",
      "mimetype": "text/x-python",
      "name": "python",
      "nbconvert_exporter": "python",
      "pygments_lexer": "ipython3",
      "version": "3.7.3"
    },
    "colab": {
      "provenance": [],
      "include_colab_link": true
    }
  },
  "nbformat": 4,
  "nbformat_minor": 5
}