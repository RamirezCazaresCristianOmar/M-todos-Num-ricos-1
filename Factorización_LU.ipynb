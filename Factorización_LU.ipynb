{
  "cells": [
    {
      "cell_type": "markdown",
      "metadata": {
        "id": "view-in-github",
        "colab_type": "text"
      },
      "source": [
        "<a href=\"https://colab.research.google.com/github/RamirezCazaresCristianOmar/M-todos-Num-ricos-1/blob/main/Factorizaci%C3%B3n_LU.ipynb\" target=\"_parent\"><img src=\"https://colab.research.google.com/assets/colab-badge.svg\" alt=\"Open In Colab\"/></a>"
      ]
    },
    {
      "cell_type": "code",
      "execution_count": 2,
      "id": "db980446",
      "metadata": {
        "id": "db980446"
      },
      "outputs": [],
      "source": [
        "import numpy as np"
      ]
    },
    {
      "cell_type": "code",
      "source": [
        "\n",
        "def lu_factorization(A):\n",
        "    \"\"\"\n",
        "    Implementa la factorización LU de una matriz A.\n",
        "\n",
        "    Args:\n",
        "        A (numpy.ndarray): Matriz cuadrada de dimensión n x n\n",
        "\n",
        "    Returns:\n",
        "        L (numpy.ndarray): Matriz triangular inferior\n",
        "        U (numpy.ndarray): Matriz triangular superior\n",
        "        success (bool): True si la factorización fue exitosa, False si es imposible\n",
        "    \"\"\"\n",
        "    n = len(A)\n",
        "    # Inicializamos L y U como matrices de ceros\n",
        "    L = np.zeros((n, n))\n",
        "    U = np.zeros((n, n))\n",
        "\n",
        "    # Paso 1: Inicializamos la diagonal de L con 1's\n",
        "    for i in range(n):\n",
        "        L[i][i] = 1\n",
        "\n",
        "    # Copiamos A para no modificar la original\n",
        "    A = np.array(A, dtype=float)\n",
        "\n",
        "    # Paso 1: Verificar primer elemento\n",
        "    if A[0][0] == 0:\n",
        "        return None, None, False\n",
        "\n",
        "    # Paso 2: Primera fila de U y primera columna de L\n",
        "    U[0] = A[0]\n",
        "    for i in range(1, n):\n",
        "        L[i][0] = A[i][0] / U[0][0]\n",
        "\n",
        "    # Pasos 3-5: Procesamiento principal\n",
        "    for i in range(1, n):\n",
        "        # Paso 4: Diagonal de U\n",
        "        suma = sum(L[i][k] * U[k][i] for k in range(i))\n",
        "        U[i][i] = A[i][i] - suma\n",
        "\n",
        "        if U[i][i] == 0:  # Verificar si la factorización es posible\n",
        "            return None, None, False\n",
        "\n",
        "        # Paso 5: i-ésima fila de U y columna de L\n",
        "        for j in range(i+1, n):\n",
        "            # Cálculo de U[i][j]\n",
        "            suma_u = sum(L[i][k] * U[k][j] for k in range(i))\n",
        "            U[i][j] = A[i][j] - suma_u\n",
        "\n",
        "            # Cálculo de L[j][i]\n",
        "            suma_l = sum(L[j][k] * U[k][i] for k in range(i))\n",
        "            L[j][i] = (A[j][i] - suma_l) / U[i][i]\n",
        "\n",
        "    return L, U, True\n",
        "\n",
        "def solve_lu_system(L, U, b):\n",
        "    \"\"\"\n",
        "    Resuelve el sistema LUx = b usando sustitución hacia adelante y hacia atrás.\n",
        "\n",
        "    Args:\n",
        "        L (numpy.ndarray): Matriz triangular inferior\n",
        "        U (numpy.ndarray): Matriz triangular superior\n",
        "        b (numpy.ndarray): Vector de términos independientes\n",
        "\n",
        "    Returns:\n",
        "        x (numpy.ndarray): Solución del sistema\n",
        "    \"\"\"\n",
        "    n = len(b)\n",
        "    # Paso 1: Resolver Ly = b (sustitución hacia adelante)\n",
        "    y = np.zeros(n)\n",
        "    y[0] = b[0] / L[0][0]\n",
        "    for i in range(1, n):\n",
        "        suma = sum(L[i][j] * y[j] for j in range(i))\n",
        "        y[i] = (b[i] - suma) / L[i][i]\n",
        "\n",
        "    # Paso 2: Resolver Ux = y (sustitución hacia atrás)\n",
        "    x = np.zeros(n)\n",
        "    x[n-1] = y[n-1] / U[n-1][n-1]\n",
        "    for i in range(n-2, -1, -1):\n",
        "        suma = sum(U[i][j] * x[j] for j in range(i+1, n))\n",
        "        x[i] = (y[i] - suma) / U[i][i]\n",
        "\n",
        "    return x\n",
        "\n",
        "# Ejemplo de uso con la matriz dada\n",
        "A = np.array([\n",
        "    [1, 1, 0, 3],\n",
        "    [2, 1, -1, 1],\n",
        "    [3, -1, -1, 2],\n",
        "    [-1, 2, 3, -1]\n",
        "], dtype=float)\n",
        "\n",
        "b = np.array([4, 1, -3, 4], dtype=float)\n",
        "\n",
        "# Realizar la factorización LU\n",
        "L, U, success = lu_factorization(A)\n",
        "\n",
        "if success:\n",
        "    print(\"Matriz L:\")\n",
        "    print(np.round(L, 4))\n",
        "    print(\"\\nMatriz U:\")\n",
        "    print(np.round(U, 4))\n",
        "\n",
        "    # Resolver el sistema\n",
        "    x = solve_lu_system(L, U, b)\n",
        "    print(\"\\nSolución x:\")\n",
        "    print(np.round(x, 4))\n",
        "\n",
        "    # Verificar la solución\n",
        "    print(\"\\nVerificación Ax = b:\")\n",
        "    print(\"Ax =\", np.round(np.dot(A, x), 4))\n",
        "    print(\"b  =\", b)\n",
        "else:\n",
        "    print(\"La factorización LU es imposible para esta matriz.\")"
      ],
      "metadata": {
        "colab": {
          "base_uri": "https://localhost:8080/"
        },
        "id": "QFeIET3dci7B",
        "outputId": "f238faa3-00c8-42ff-c7f9-78930d24a806"
      },
      "id": "QFeIET3dci7B",
      "execution_count": 3,
      "outputs": [
        {
          "output_type": "stream",
          "name": "stdout",
          "text": [
            "Matriz L:\n",
            "[[ 1.  0.  0.  0.]\n",
            " [ 2.  1.  0.  0.]\n",
            " [ 3.  4.  1.  0.]\n",
            " [-1. -3.  0.  1.]]\n",
            "\n",
            "Matriz U:\n",
            "[[  1.   1.   0.   3.]\n",
            " [  0.  -1.  -1.  -5.]\n",
            " [  0.   0.   3.  13.]\n",
            " [  0.   0.   0. -13.]]\n",
            "\n",
            "Solución x:\n",
            "[-1.  2.  0.  1.]\n",
            "\n",
            "Verificación Ax = b:\n",
            "Ax = [ 4.  1. -3.  4.]\n",
            "b  = [ 4.  1. -3.  4.]\n"
          ]
        }
      ]
    }
  ],
  "metadata": {
    "kernelspec": {
      "display_name": "Python 3 (ipykernel)",
      "language": "python",
      "name": "python3"
    },
    "language_info": {
      "codemirror_mode": {
        "name": "ipython",
        "version": 3
      },
      "file_extension": ".py",
      "mimetype": "text/x-python",
      "name": "python",
      "nbconvert_exporter": "python",
      "pygments_lexer": "ipython3",
      "version": "3.7.3"
    },
    "colab": {
      "provenance": [],
      "include_colab_link": true
    }
  },
  "nbformat": 4,
  "nbformat_minor": 5
}