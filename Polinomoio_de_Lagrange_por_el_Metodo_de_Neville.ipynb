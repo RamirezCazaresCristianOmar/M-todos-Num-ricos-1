{
  "nbformat": 4,
  "nbformat_minor": 0,
  "metadata": {
    "colab": {
      "provenance": [],
      "authorship_tag": "ABX9TyNnJc+BWZKEeknlkY7G7/IR",
      "include_colab_link": true
    },
    "kernelspec": {
      "name": "python3",
      "display_name": "Python 3"
    },
    "language_info": {
      "name": "python"
    }
  },
  "cells": [
    {
      "cell_type": "markdown",
      "metadata": {
        "id": "view-in-github",
        "colab_type": "text"
      },
      "source": [
        "<a href=\"https://colab.research.google.com/github/RamirezCazaresCristianOmar/M-todos-Num-ricos-1/blob/main/Polinomoio_de_Lagrange_por_el_Metodo_de_Neville.ipynb\" target=\"_parent\"><img src=\"https://colab.research.google.com/assets/colab-badge.svg\" alt=\"Open In Colab\"/></a>"
      ]
    },
    {
      "cell_type": "markdown",
      "source": [
        "#Polinomio de Lagrange por el Metodo de Neville"
      ],
      "metadata": {
        "id": "2ixKxMyAcKsA"
      }
    },
    {
      "cell_type": "code",
      "source": [
        "#Metodo de Interpolacion de Neville\n",
        "def metodo_neville(x, xi, fi):\n",
        "\n",
        "#Argumentos:\n",
        "#x: El valor de x en el que se desea interpolar\n",
        "#xi: Una lista de valores de x conocidos\n",
        "#fi: Una lista de valores de f(x) correspondientes a xi\n",
        "    #Returns:\n",
        "        #Una tupla que contiene:\n",
        "            #- El valor interpolado en x\n",
        "            #- La tabla de Neville generada\n",
        "    #Raices:\n",
        "#ValueError: Si las listas xi y fi no tienen la misma longitud\n",
        "\n",
        "    # Validar la entrada: verificar que las listas xi y fi tengan la misma longitud\n",
        "\n",
        "   if len(xi) != len(fi):\n",
        "\n",
        "        raise ValueError(\"Las listas 'xi' y 'fi' deben tener la misma longitud.\")\n",
        "\n",
        "   n = len(xi)  # Número de nodos\n",
        "\n",
        "    # Crear una tabla de Neville (n x n) e inicializar la primera columna con los valores de fi\n",
        "\n",
        "   tabla = [[0.0] * n for _ in range(n)]\n",
        "\n",
        "   for i in range(n):\n",
        "\n",
        "        tabla[i][0] = fi[i]\n",
        "\n",
        "    # Llenar la tabla de Neville usando la fórmula de recurrencia\n",
        "\n",
        "   for i in range(1, n):  # Iterar sobre las filas, comenzando desde la segunda\n",
        "\n",
        "        for j in range(1, i + 1):  # Iterar sobre las columnas hasta la diagonal\n",
        "\n",
        "            numerador = (x - xi[i - j]) * tabla[i][j - 1] - (x - xi[i]) * tabla[i - 1][j - 1]\n",
        "\n",
        "            denominador = xi[i] - xi[i - j]\n",
        "\n",
        "            tabla[i][j] = numerador / denominador\n",
        "\n",
        "    # El valor interpolado se encuentra en la última posición de la diagonal principal\n",
        "\n",
        "   resultado = round(tabla[n - 1][n - 1], 7)  # Redondear a 7 decimales\n",
        "\n",
        "   return resultado, tabla\n",
        "\n",
        "# Ejemplo de uso:\n",
        "\n",
        "xi = [1.0, 1.3, 1.6, 1.9, 2.2]  # Valores de x\n",
        "\n",
        "fi = [0.7651977, 0.6200860, 0.4554022, 0.2818186, 0.1103623]  # Valores de f(x)\n",
        "\n",
        "x = 1.5  # El valor donde se desea interpolar\n",
        "\n",
        "resultado, tabla = metodo_neville(x, xi, fi)\n",
        "\n",
        "print(\"Tabla de Neville:\")\n",
        "for fila in tabla:\n",
        "    print(fila)\n",
        "\n",
        "print(\"El valor interpolado en x =\", x, \"es:\", resultado)\n"
      ],
      "metadata": {
        "colab": {
          "base_uri": "https://localhost:8080/"
        },
        "id": "7JYv1MBji9Gj",
        "outputId": "3f9f70ad-ded2-4fdc-db44-97065dc98b97"
      },
      "execution_count": 24,
      "outputs": [
        {
          "output_type": "stream",
          "name": "stdout",
          "text": [
            "Tabla de Neville:\n",
            "[0.7651977, 0.0, 0.0, 0.0, 0.0]\n",
            "[0.620086, 0.5233448666666667, 0.0, 0.0, 0.0]\n",
            "[0.4554022, 0.5102968, 0.5124714777777778, 0.0, 0.0]\n",
            "[0.2818186, 0.5132634, 0.5112856666666666, 0.5118126938271604, 0.0]\n",
            "[0.1103623, 0.5104269999999997, 0.5137361333333335, 0.5118302148148148, 0.5118199942386831]\n",
            "El valor interpolado en x = 1.5 es: 0.51182\n"
          ]
        }
      ]
    }
  ]
}