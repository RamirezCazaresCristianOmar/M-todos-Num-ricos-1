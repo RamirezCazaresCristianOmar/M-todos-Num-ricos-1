{
  "cells": [
    {
      "cell_type": "markdown",
      "metadata": {
        "id": "view-in-github",
        "colab_type": "text"
      },
      "source": [
        "<a href=\"https://colab.research.google.com/github/RamirezCazaresCristianOmar/M-todos-Num-ricos-1/blob/main/Metodo_de_Muller.ipynb\" target=\"_parent\"><img src=\"https://colab.research.google.com/assets/colab-badge.svg\" alt=\"Open In Colab\"/></a>"
      ]
    },
    {
      "cell_type": "markdown",
      "id": "3154e14b",
      "metadata": {
        "id": "3154e14b"
      },
      "source": [
        "# Método de Muller\n",
        "\n"
      ]
    },
    {
      "cell_type": "markdown",
      "source": [
        "#El metodo de Muller utiliza un aproximacion cuadratica para estimar la raiz de una funcion F(x).En lugar de usar solo dos puntos como en otros metodos, utiliza tres puntos para construir una parabola que se ajusta a los puntos dados."
      ],
      "metadata": {
        "id": "ZaaU-mmso0XX"
      },
      "id": "ZaaU-mmso0XX"
    },
    {
      "cell_type": "markdown",
      "source": [
        "#Use el metodo de Muller  para evaluar la siguiente ecuacion polinomica de cuarto grado y encontrar su raiz P(x)=$x^4-5x^3+6x^2-2x+1$."
      ],
      "metadata": {
        "id": "MkiRJNYyGV_f"
      },
      "id": "MkiRJNYyGV_f"
    },
    {
      "cell_type": "code",
      "execution_count": 1,
      "id": "9d5e2287",
      "metadata": {
        "id": "9d5e2287"
      },
      "outputs": [],
      "source": [
        "from math import *\n",
        "import numpy as np\n",
        "import matplotlib . pyplot as plt\n",
        "import sympy as sym"
      ]
    },
    {
      "cell_type": "code",
      "execution_count": 2,
      "id": "db980446",
      "metadata": {
        "id": "db980446"
      },
      "outputs": [],
      "source": [
        "#Definir la funcion cuya raiz queremos encontrar\n",
        "def f(x):\n",
        "  return x**4 - 5*x**3 + 6*x**2 - 2*x - 4\n"
      ]
    },
    {
      "cell_type": "code",
      "source": [
        "# Ingreso de los valores iniciales\n",
        "x0=1.0 #Valor inicial\n",
        "x1=1.5 #Segundo punto inicial\n",
        "x2=2.0 #Tercer punto inicial\n",
        "Tol = 0.0001  # Tolerancia\n",
        "Nmax = 100  # Número máximo de iteraciones\n",
        "error = 100  # Inicializamos un error grande\n",
        "niter = 0  # Inicializamos el contador de iteraciones"
      ],
      "metadata": {
        "id": "7X6phmrZ1RTX"
      },
      "id": "7X6phmrZ1RTX",
      "execution_count": 23,
      "outputs": []
    },
    {
      "cell_type": "markdown",
      "source": [
        "#Aplicamos el metodo Muller"
      ],
      "metadata": {
        "id": "CcaAOUPN1hNz"
      },
      "id": "CcaAOUPN1hNz"
    },
    {
      "cell_type": "code",
      "source": [
        "#Método de Muller\n",
        "# Encabezado de la tabla\n",
        "print(\"# iter\\t x2 \\t\\t f(x2) \\t\\t Error\")\n",
        "\n",
        "while error > Tol and niter < Nmax:\n",
        "  niter += 1\n",
        "\n",
        "  #Valores de la funcion en los puntos\n",
        "  f0 = f(x0)\n",
        "  f1 = f(x1)\n",
        "  f2 = f(x2)\n",
        "\n",
        "  #Calcular h y d\n",
        "  h0 = x1 - x0\n",
        "  h1 = x2 - x1\n",
        "  d0 = (f1 - f0) / h0\n",
        "  d1 = (f2 - f1) / h1\n",
        "\n",
        "\n",
        "  #Coeficientes de la aproximacion cuadratica\n",
        "  a = (d1 - d0) / (h1 + h0) #coeficiente de x^2\n",
        "  b = a * h1 + d1 #coeficiente de x\n",
        "  c = f2 #termino independiente\n",
        "\n",
        "  #Calcular el discriminante\n",
        "  discriminante = b**2 - 4*a*c\n",
        "\n",
        "  #Calcular el nuevo valor de dx\n",
        "  if discriminante >= 0:\n",
        "    dx = (-2 * c) / (b + np.sign(b) * sqrt(discriminante))\n",
        "  else:\n",
        "    dx = (-2 *c) / (b - np.sign(b) * sqrt(-discriminante))\n",
        "\n",
        "  #Nueva aproximacion\n",
        "  x2_new = x2 + dx\n",
        "\n",
        "  #Calcular el error\n",
        "  error = abs(x2_new - x2)\n",
        "\n",
        "  # Imprimir los valores de la iteracion\n",
        "  print(\"{0}\\t {1:6.6f} \\t {2:6.6f} \\t {3:6.6f} \".format(niter, x2, x2_new, error))\n",
        "\n",
        "  #Desplazar los puntos para la siguiente iteracion\n",
        "  x0, x1, x2 = x1, x2, x2_new\n",
        "\n",
        "# Imprimir el resultado final\n",
        "print(\"\\nLa raiz de la funcion P(x) usando el metodo de muller es = {0:6.6f} con un error de {1:6.6f}\".format(x2_new, error))\n"
      ],
      "metadata": {
        "colab": {
          "base_uri": "https://localhost:8080/"
        },
        "id": "k2PPf5Oh1X8B",
        "outputId": "bf515585-3a84-4812-b14d-73e8fd45d13b"
      },
      "id": "k2PPf5Oh1X8B",
      "execution_count": 24,
      "outputs": [
        {
          "output_type": "stream",
          "name": "stdout",
          "text": [
            "# iter\t x2 \t\t f(x2) \t\t Error\n",
            "1\t 2.000000 \t -65.913764 \t 67.913764 \n",
            "2\t -65.913764 \t 1.497625 \t 67.411389 \n",
            "3\t 1.497625 \t 1.495265 \t 0.002360 \n",
            "4\t 1.495265 \t 1.462486 \t 0.032779 \n",
            "5\t 1.462486 \t 5.140730 \t 3.678243 \n",
            "6\t 5.140730 \t 2.265088 \t 2.875642 \n",
            "7\t 2.265088 \t 2.788720 \t 0.523632 \n",
            "8\t 2.788720 \t 3.248481 \t 0.459761 \n",
            "9\t 3.248481 \t 3.665802 \t 0.417321 \n",
            "10\t 3.665802 \t 3.554603 \t 0.111198 \n",
            "11\t 3.554603 \t 3.561488 \t 0.006884 \n",
            "12\t 3.561488 \t 3.561553 \t 0.000065 \n",
            "\n",
            "La raiz de la funcion P(x) usando el metodo de muller es = 3.561553 con un error de 0.000065\n"
          ]
        }
      ]
    },
    {
      "cell_type": "code",
      "source": [
        "# Valores del eje X que toma el gráfico.\n",
        "x=np.linspace(-10, 10, 400)"
      ],
      "metadata": {
        "id": "kCAdEWf70-MH"
      },
      "id": "kCAdEWf70-MH",
      "execution_count": 79,
      "outputs": []
    },
    {
      "cell_type": "code",
      "source": [
        "# Graficamos el polinomio\n",
        "plt.plot(x, f(x), color=\"Blue\")\n",
        "plt.axhline(0, color=\"black\")\n",
        "plt.axvline(0, color=\"black\")\n",
        "plt.xlim(-8, 8)\n",
        "plt.ylim(-15, 15)\n",
        "plt.xlabel(\"x\")\n",
        "plt.ylabel(\"y\")\n",
        "plt.title(\"Metodo de Muller\")\n",
        "plt.grid(color=\"blue\")\n",
        "# Coordenadas de la raiz de P(x)\n",
        "x = [3.561553]\n",
        "y = [0]\n",
        "plt.scatter(x2, f(x2), color=\"black\")\n",
        "plt.show()\n"
      ],
      "metadata": {
        "colab": {
          "base_uri": "https://localhost:8080/",
          "height": 472
        },
        "id": "yPF0Uy-Y1CVm",
        "outputId": "e3eb7a49-d7fe-4473-f7c0-5de052a406bf"
      },
      "id": "yPF0Uy-Y1CVm",
      "execution_count": 80,
      "outputs": [
        {
          "output_type": "display_data",
          "data": {
            "text/plain": [
              "<Figure size 640x480 with 1 Axes>"
            ],
            "image/png": "[encoded data removed]"
          },
          "metadata": {}
        }
      ]
    }
  ],
  "metadata": {
    "kernelspec": {
      "display_name": "Python 3 (ipykernel)",
      "language": "python",
      "name": "python3"
    },
    "language_info": {
      "codemirror_mode": {
        "name": "ipython",
        "version": 3
      },
      "file_extension": ".py",
      "mimetype": "text/x-python",
      "name": "python",
      "nbconvert_exporter": "python",
      "pygments_lexer": "ipython3",
      "version": "3.7.3"
    },
    "colab": {
      "provenance": [],
      "include_colab_link": true
    }
  },
  "nbformat": 4,
  "nbformat_minor": 5
}