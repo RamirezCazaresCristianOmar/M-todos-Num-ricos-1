{
  "nbformat": 4,
  "nbformat_minor": 0,
  "metadata": {
    "colab": {
      "provenance": [],
      "authorship_tag": "ABX9TyNI0O3GaX+1lH0Wn9X/FugA",
      "include_colab_link": true
    },
    "kernelspec": {
      "name": "python3",
      "display_name": "Python 3"
    },
    "language_info": {
      "name": "python"
    }
  },
  "cells": [
    {
      "cell_type": "markdown",
      "metadata": {
        "id": "view-in-github",
        "colab_type": "text"
      },
      "source": [
        "<a href=\"https://colab.research.google.com/github/RamirezCazaresCristianOmar/M-todos-Num-ricos-1/blob/main/Untitled9.ipynb\" target=\"_parent\"><img src=\"https://colab.research.google.com/assets/colab-badge.svg\" alt=\"Open In Colab\"/></a>"
      ]
    },
    {
      "cell_type": "code",
      "execution_count": 1,
      "metadata": {
        "colab": {
          "base_uri": "https://localhost:8080/"
        },
        "id": "M6BSAzZx05zS",
        "outputId": "38d7e7dd-994a-4c7b-c53d-5d4232a6aa00"
      },
      "outputs": [
        {
          "output_type": "stream",
          "name": "stdout",
          "text": [
            "Matriz L:\n",
            "[[ 1.  0.  0.  0.]\n",
            " [ 2.  1.  0.  0.]\n",
            " [ 3.  4.  1.  0.]\n",
            " [-1. -3.  0.  1.]]\n",
            "\n",
            "Matriz U:\n",
            "[[  1.   1.   0.   3.]\n",
            " [  0.  -1.  -1.  -5.]\n",
            " [  0.   0.   3.  13.]\n",
            " [  0.   0.   0. -13.]]\n",
            "\n",
            "Solución x:\n",
            "[-1.  2.  0.  1.]\n",
            "\n",
            "Verificación Ax = b:\n",
            "Ax = [ 4.  1. -3.  4.]\n",
            "b = [ 4.  1. -3.  4.]\n"
          ]
        }
      ],
      "source": [
        "import numpy as np  # Importar la biblioteca NumPy para operaciones matriciales\n",
        "\n",
        "def lu_factorization(A):\n",
        "    \"\"\" Implementa la factorización LU de una matriz A. ... \"\"\"\n",
        "    n = len(A)  # Obtener el tamaño de la matriz (número de filas/columnas)\n",
        "\n",
        "    # Inicializar matrices L y U con ceros\n",
        "    L = np.zeros((n, n))  # Crear matriz triangular inferior de nxn llena de ceros\n",
        "    U = np.zeros((n, n))  # Crear matriz triangular superior de nxn llena de ceros\n",
        "\n",
        "    # Paso 1: Inicializar la diagonal de L con 1's\n",
        "    for i in range(n):  # Iterar sobre cada elemento de la diagonal\n",
        "        L[i][i] = 1  # Asignar 1 a los elementos diagonales de L\n",
        "\n",
        "    A = np.array(A, dtype=float)  # Crear copia de A para no modificar la original y asegurar tipo float\n",
        "\n",
        "    # Paso 1: Verificar si el primer elemento es cero\n",
        "    if A[0][0] == 0:  # Si el primer pivote es cero\n",
        "        return None, None, False  # Retornar fallo en la factorización\n",
        "\n",
        "    # Paso 2: Calcular primera fila de U y primera columna de L\n",
        "    U[0] = A[0]  # La primera fila de U es igual a la primera fila de A\n",
        "\n",
        "    for i in range(1, n):  # Iterar desde la segunda fila hasta la última\n",
        "        L[i][0] = A[i][0] / U[0][0]  # Calcular elementos de la primera columna de L\n",
        "\n",
        "    # Pasos 3-5: Procesamiento principal para calcular LU\n",
        "    for i in range(1, n):  # Iterar sobre filas desde la segunda hasta n-1\n",
        "        # Paso 4: Calcular elemento diagonal de U\n",
        "        suma = sum(L[i][k] * U[k][i] for k in range(i))  # Sumatoria de productos L*U\n",
        "        U[i][i] = A[i][i] - suma  # Calcular elemento diagonal de U\n",
        "\n",
        "        if U[i][i] == 0:  # Si el elemento diagonal es cero\n",
        "            return None, None, False  # La factorización no es posible\n",
        "\n",
        "        # Paso 5: Calcular fila i de U y columna i de L\n",
        "        for j in range(i+1, n):  # Iterar sobre columnas restantes\n",
        "            # Calcular elementos de U\n",
        "            suma_u = sum(L[i][k] * U[k][j] for k in range(i))  # Sumatoria para U\n",
        "            U[i][j] = A[i][j] - suma_u  # Calcular elemento U[i][j]\n",
        "\n",
        "            # Calcular elementos de L\n",
        "            suma_l = sum(L[j][k] * U[k][i] for k in range(i))  # Sumatoria para L\n",
        "            L[j][i] = (A[j][i] - suma_l) / U[i][i]  # Calcular elemento L[j][i]\n",
        "\n",
        "    return L, U, True  # Retornar matrices L, U y éxito de la factorización\n",
        "\n",
        "def solve_lu_system(L, U, b):\n",
        "    \"\"\" Resuelve el sistema LUx = b ... \"\"\"\n",
        "    n = len(b)  # Obtener tamaño del vector b\n",
        "\n",
        "    # Paso 1: Resolver Ly = b (sustitución hacia adelante)\n",
        "    y = np.zeros(n)  # Inicializar vector y con ceros\n",
        "    y[0] = b[0] / L[0][0]  # Calcular primer elemento de y\n",
        "\n",
        "    for i in range(1, n):  # Iterar desde el segundo elemento\n",
        "        suma = sum(L[i][j] * y[j] for j in range(i))  # Sumatoria de productos L*y\n",
        "        y[i] = (b[i] - suma) / L[i][i]  # Calcular elemento y[i]\n",
        "\n",
        "    # Paso 2: Resolver Ux = y (sustitución hacia atrás)\n",
        "    x = np.zeros(n)  # Inicializar vector solución x con ceros\n",
        "    x[n-1] = y[n-1] / U[n-1][n-1]  # Calcular último elemento de x\n",
        "\n",
        "    for i in range(n-2, -1, -1):  # Iterar desde penúltimo elemento hasta el primero\n",
        "        suma = sum(U[i][j] * x[j] for j in range(i+1, n))  # Sumatoria de productos U*x\n",
        "        x[i] = (y[i] - suma) / U[i][i]  # Calcular elemento x[i]\n",
        "\n",
        "    return x  # Retornar vector solución\n",
        "\n",
        "# Ejemplo de uso con la matriz dada\n",
        "A = np.array([  # Definir matriz de coeficientes del sistema\n",
        "    [1, 1, 0, 3],\n",
        "    [2, 1, -1, 1],\n",
        "    [3, -1, -1, 2],\n",
        "    [-1, 2, 3, -1]\n",
        "], dtype=float)\n",
        "\n",
        "b = np.array([4, 1, -3, 4], dtype=float)  # Definir vector de términos independientes\n",
        "\n",
        "# Realizar la factorización LU\n",
        "L, U, success = lu_factorization(A)  # Llamar a la función de factorización\n",
        "\n",
        "if success:  # Si la factorización fue exitosa\n",
        "    print(\"Matriz L:\")\n",
        "    print(np.round(L, 4))  # Mostrar L redondeada a 4 decimales\n",
        "\n",
        "    print(\"\\nMatriz U:\")\n",
        "    print(np.round(U, 4))  # Mostrar U redondeada a 4 decimales\n",
        "\n",
        "    # Resolver el sistema\n",
        "    x = solve_lu_system(L, U, b)  # Obtener solución x\n",
        "    print(\"\\nSolución x:\")\n",
        "    print(np.round(x, 4))  # Mostrar x redondeada a 4 decimales\n",
        "\n",
        "    # Verificar la solución\n",
        "    print(\"\\nVerificación Ax = b:\")\n",
        "    print(\"Ax =\", np.round(np.dot(A, x), 4))  # Calcular Ax y mostrar\n",
        "    print(\"b =\", b)  # Mostrar vector b original\n",
        "else:\n",
        "    print(\"La factorización LU es imposible para esta matriz.\")  # Mensaje de error"
      ]
    }
  ]
}