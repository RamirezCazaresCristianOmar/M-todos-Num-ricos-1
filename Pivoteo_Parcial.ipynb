{
  "nbformat": 4,
  "nbformat_minor": 0,
  "metadata": {
    "colab": {
      "provenance": [],
      "authorship_tag": "ABX9TyOo0gj3wkE3NF0Dg3pldoHF",
      "include_colab_link": true
    },
    "kernelspec": {
      "name": "python3",
      "display_name": "Python 3"
    },
    "language_info": {
      "name": "python"
    }
  },
  "cells": [
    {
      "cell_type": "markdown",
      "metadata": {
        "id": "view-in-github",
        "colab_type": "text"
      },
      "source": [
        "<a href=\"https://colab.research.google.com/github/RamirezCazaresCristianOmar/M-todos-Num-ricos-1/blob/main/Pivoteo_Parcial.ipynb\" target=\"_parent\"><img src=\"https://colab.research.google.com/assets/colab-badge.svg\" alt=\"Open In Colab\"/></a>"
      ]
    },
    {
      "cell_type": "code",
      "execution_count": 3,
      "metadata": {
        "id": "ueXkrm8dRFdw"
      },
      "outputs": [],
      "source": [
        "import numpy as np"
      ]
    },
    {
      "cell_type": "code",
      "source": [
        "import numpy as np\n",
        "\n",
        "def pivoteo_parcial(A, b):\n",
        "\n",
        "    \"\"\"\n",
        "\n",
        "    Implementa el algoritmo de pivoteo parcial para resolver un sistema de ecuaciones lineales\n",
        "\n",
        "    Args:\n",
        "\n",
        "        A: Matriz de coeficientes (NumPy array)\n",
        "\n",
        "        b: Vector de términos independientes (NumPy array)\n",
        "\n",
        "    Returns:\n",
        "\n",
        "        x: Vector solución (NumPy array).  Devuelve None si no hay solución única\n",
        "\n",
        "    \"\"\"\n",
        "\n",
        "    n = len(b)\n",
        "\n",
        "    # Creamos una copia para no modificar los datos originales\n",
        "\n",
        "    A = np.copy(A)\n",
        "\n",
        "    b = np.copy(b)\n",
        "\n",
        "    for i in range(n):\n",
        "\n",
        "        # Pivoteo parcial: encontrar el elemento máximo en la columna i\n",
        "\n",
        "        max_row = i\n",
        "\n",
        "        for k in range(i + 1, n):\n",
        "\n",
        "            if abs(A[k, i]) > abs(A[max_row, i]):\n",
        "\n",
        "                max_row = k\n",
        "\n",
        "        # Intercambiar filas si es necesario\n",
        "\n",
        "        if max_row != i:\n",
        "\n",
        "            A[[i, max_row]] = A[[max_row, i]]\n",
        "\n",
        "            b[[i, max_row]] = b[[max_row, i]]\n",
        "\n",
        "        # Eliminación gaussiana\n",
        "\n",
        "        pivot = A[i, i]\n",
        "\n",
        "        if pivot == 0: #No hay solución única\n",
        "\n",
        "            return None\n",
        "\n",
        "        for j in range(i + 1, n):\n",
        "\n",
        "            factor = A[j, i] / pivot\n",
        "\n",
        "            A[j, i:] = A[j, i:] - factor * A[i, i:]\n",
        "\n",
        "            b[j] = b[j] - factor * b[i]\n",
        "\n",
        "    # Sustitución hacia atrás\n",
        "\n",
        "    x = np.zeros(n)\n",
        "\n",
        "    for i in range(n - 1, -1, -1):\n",
        "\n",
        "        x[i] = b[i]\n",
        "\n",
        "        for j in range(i + 1, n):\n",
        "\n",
        "            x[i] = x[i] - A[i, j] * x[j]\n",
        "\n",
        "        x[i] = x[i] / A[i, i]\n",
        "\n",
        "    return x\n",
        "\n",
        "# Ejemplo E1:\n",
        "\n",
        "A = np.array([[0.003, 59.14], [5.291, -6.13]])\n",
        "\n",
        "b = np.array([59.17, 46.78])\n",
        "\n",
        "x = pivoteo_parcial(A, b)\n",
        "\n",
        "if x is not None:\n",
        "\n",
        "    print(\"La respuesta de cuatro dígitos resultante a partir de la sustitución hacia atrás son los valores correctos de :\")\n",
        "\n",
        "    print(f\"x1 = {x[0]:.4f}\")\n",
        "\n",
        "    print(f\"x2 = {x[1]:.4f}\")\n",
        "\n",
        "else:\n",
        "\n",
        "    print(\"No hay solución única.\")"
      ],
      "metadata": {
        "colab": {
          "base_uri": "https://localhost:8080/"
        },
        "id": "mPRvCDBd1LRh",
        "outputId": "d90b8788-f654-40a4-d3f1-ce4a493f83ff"
      },
      "execution_count": 6,
      "outputs": [
        {
          "output_type": "stream",
          "name": "stdout",
          "text": [
            "La respuesta de cuatro dígitos resultante a partir de la sustitución hacia atrás son los valores correctos de :\n",
            "x1 = 10.0000\n",
            "x2 = 1.0000\n"
          ]
        }
      ]
    }
  ]
}