{
  "nbformat": 4,
  "nbformat_minor": 0,
  "metadata": {
    "colab": {
      "provenance": [],
      "authorship_tag": "ABX9TyOBEizDbaN6y6PDT5GaUDDO",
      "include_colab_link": true
    },
    "kernelspec": {
      "name": "python3",
      "display_name": "Python 3"
    },
    "language_info": {
      "name": "python"
    }
  },
  "cells": [
    {
      "cell_type": "markdown",
      "metadata": {
        "id": "view-in-github",
        "colab_type": "text"
      },
      "source": [
        "<a href=\"https://colab.research.google.com/github/RamirezCazaresCristianOmar/M-todos-Num-ricos-1/blob/main/Tutorial_de_Numpy.ipynb\" target=\"_parent\"><img src=\"https://colab.research.google.com/assets/colab-badge.svg\" alt=\"Open In Colab\"/></a>"
      ]
    },
    {
      "cell_type": "markdown",
      "source": [
        "#NumPy es una biblioteca de código abierto para el lenguaje de programación Python que se utiliza para:\n",
        "-Realizar cálculos numéricos eficientes en grandes cantidades de datos.\n",
        "\n",
        "-Programar en Data Science, ingeniería, matemáticas o ciencia.\n",
        "\n",
        "-Crear vectores y matrices grandes multidimensionales.\n",
        "\n",
        "-Operar con matrices y vectores de grandes dimensiones.\n",
        "\n",
        "-Invocar métodos de forma vectorizada."
      ],
      "metadata": {
        "id": "TiftUrNki1Fk"
      }
    },
    {
      "cell_type": "markdown",
      "source": [
        "#Estas son algunas utilidades y funciones basicas que tiene la libreria numpy:"
      ],
      "metadata": {
        "id": "pYJtmmfjmt33"
      }
    },
    {
      "cell_type": "markdown",
      "source": [
        "#1.-Importar la libreria numpy.\n",
        "Esta linea importa la libreria NumPy y la asigna al alias np.Esto permite usar las funciones de NumPy con el prefijo np. para facilitar las escritura del codigo."
      ],
      "metadata": {
        "id": "04NsQF-em_D8"
      }
    },
    {
      "cell_type": "code",
      "source": [
        "import numpy as np"
      ],
      "metadata": {
        "id": "oMI6ZckSndi-"
      },
      "execution_count": 1,
      "outputs": []
    },
    {
      "cell_type": "markdown",
      "source": [
        "#2.-Creacion de Arrays.\n",
        "Los arrays NumPy son mas eficientes para realizar calculos numericos que las listas de Python."
      ],
      "metadata": {
        "id": "6B63ULAXni7A"
      }
    },
    {
      "cell_type": "code",
      "source": [
        "#Crear un array unidimensional\n",
        "array1D = np.array([1, 2, 3, 4, 5])\n",
        "print(\"array1D:\", array1D)"
      ],
      "metadata": {
        "colab": {
          "base_uri": "https://localhost:8080/"
        },
        "id": "NaDsJLWMoy5A",
        "outputId": "6f3cfcc0-a2f2-42ee-87cc-4f5cd5200ad8"
      },
      "execution_count": 35,
      "outputs": [
        {
          "output_type": "stream",
          "name": "stdout",
          "text": [
            "array1D: [1 2 3 4 5]\n"
          ]
        }
      ]
    },
    {
      "cell_type": "code",
      "source": [
        "#Crear un array multidimensional\n",
        "array1D = np.array([[1, 2, 3], [4, 5, 6]])\n",
        "print(\"array1D:\", array1D)\n"
      ],
      "metadata": {
        "colab": {
          "base_uri": "https://localhost:8080/"
        },
        "id": "L5E-8nWMpBZt",
        "outputId": "d9e513a9-6e78-4627-9d2b-2cf24f29ef97"
      },
      "execution_count": 36,
      "outputs": [
        {
          "output_type": "stream",
          "name": "stdout",
          "text": [
            "array1D: [[1 2 3]\n",
            " [4 5 6]]\n"
          ]
        }
      ]
    },
    {
      "cell_type": "code",
      "source": [
        "#Crear arrays de ceros y unos\n",
        "array_zeros = np.zeros((2, 3))  # Array de ceros de 2x3\n",
        "array_ones = np.ones((2, 3))    # Array de unos de 2x3\n",
        "print(\"array_zeros:\", array_zeros)\n",
        "print(\"array_ones:\", array_ones)"
      ],
      "metadata": {
        "colab": {
          "base_uri": "https://localhost:8080/"
        },
        "id": "0efiFRBGpWgF",
        "outputId": "c2c7d684-4ce7-4330-968f-c8f7d6b1b83e"
      },
      "execution_count": 25,
      "outputs": [
        {
          "output_type": "stream",
          "name": "stdout",
          "text": [
            "array_zeros: [[0. 0. 0.]\n",
            " [0. 0. 0.]]\n",
            "array_ones: [[1. 1. 1.]\n",
            " [1. 1. 1.]]\n"
          ]
        }
      ]
    },
    {
      "cell_type": "markdown",
      "source": [
        "#3.-Operaciones Basicas(suma,resta,multiplicacion,division).\n",
        "Estas operaciones se realizan elemento a elemento entre dos arrays del mismo tamaño.NumPy optimiza estas operaciones para que sean mucho mas rapidas que hacerlas con bucles en Python.\n"
      ],
      "metadata": {
        "id": "Y440WPtwpOYi"
      }
    },
    {
      "cell_type": "code",
      "source": [
        "#Crear dos arrays de ejemplo\n",
        "a = np.array([1, 2, 3])\n",
        "b = np.array([4, 5, 6])"
      ],
      "metadata": {
        "id": "3XZAuqB7qDmk"
      },
      "execution_count": 5,
      "outputs": []
    },
    {
      "cell_type": "code",
      "source": [
        "#Suma\n",
        "suma = a + b\n",
        "print(\"Suma:\", suma)"
      ],
      "metadata": {
        "colab": {
          "base_uri": "https://localhost:8080/"
        },
        "id": "WTRhdQk2qqGf",
        "outputId": "1ab769e6-29d0-4ba6-a305-126f9fa5c476"
      },
      "execution_count": 18,
      "outputs": [
        {
          "output_type": "stream",
          "name": "stdout",
          "text": [
            "Suma: [5 7 9]\n"
          ]
        }
      ]
    },
    {
      "cell_type": "code",
      "source": [
        "#resta\n",
        "resta = a - b\n",
        "print(\"Resta:\", resta)"
      ],
      "metadata": {
        "colab": {
          "base_uri": "https://localhost:8080/"
        },
        "id": "CZBmhFWuq09I",
        "outputId": "7ab02899-e07b-43aa-c39e-2932691e7632"
      },
      "execution_count": 19,
      "outputs": [
        {
          "output_type": "stream",
          "name": "stdout",
          "text": [
            "Resta: [-3 -3 -3]\n"
          ]
        }
      ]
    },
    {
      "cell_type": "code",
      "source": [
        "#multiplicacion\n",
        "multiplicacion = a * b\n",
        "print(\"Multiplicación:\", multiplicacion)"
      ],
      "metadata": {
        "colab": {
          "base_uri": "https://localhost:8080/"
        },
        "id": "v-YXZWZTq0me",
        "outputId": "bed417f7-34e3-4dff-aa63-173c55fd11b7"
      },
      "execution_count": 20,
      "outputs": [
        {
          "output_type": "stream",
          "name": "stdout",
          "text": [
            "Multiplicación: [ 4 10 18]\n"
          ]
        }
      ]
    },
    {
      "cell_type": "code",
      "source": [
        "#division\n",
        "division = a / b\n",
        "print(\"División:\", division)"
      ],
      "metadata": {
        "colab": {
          "base_uri": "https://localhost:8080/"
        },
        "id": "RP0SaIEIq0Nx",
        "outputId": "8e4ced6b-5444-4811-a559-94de35c0bb26"
      },
      "execution_count": 21,
      "outputs": [
        {
          "output_type": "stream",
          "name": "stdout",
          "text": [
            "División: [0.25 0.4  0.5 ]\n"
          ]
        }
      ]
    },
    {
      "cell_type": "markdown",
      "source": [
        "#4.-Crear un Rango de valores.\n",
        "Crear un array con un rango de numeros,con un paso especificado.Es una forma eficiente de generar secuencias numericas."
      ],
      "metadata": {
        "id": "eu6aRZstrdhw"
      }
    },
    {
      "cell_type": "code",
      "source": [
        "rango = np.arange(0, 10, 2)  # Rango de 0 a 10 con paso 2\n",
        "print(\"rango:\", rango)"
      ],
      "metadata": {
        "colab": {
          "base_uri": "https://localhost:8080/"
        },
        "id": "Axv9nNUkrMvC",
        "outputId": "25e5b914-7e36-4750-9dd5-2c5e9fbf8471"
      },
      "execution_count": 26,
      "outputs": [
        {
          "output_type": "stream",
          "name": "stdout",
          "text": [
            "rango: [0 2 4 6 8]\n"
          ]
        }
      ]
    },
    {
      "cell_type": "markdown",
      "source": [
        "#5.-Calcular el producto punto.\n",
        "Calcula el producto punto(o producto escalar)de dos arrays.Esencial para muchos calculos matematicos y de algebra lineal."
      ],
      "metadata": {
        "id": "GIi7B_x-r8NG"
      }
    },
    {
      "cell_type": "code",
      "source": [
        "producto_punto = np.dot(array1D, array1D)  # Producto punto de array1D consigo mismo\n",
        "print(\"producto_punto:\", producto_punto)"
      ],
      "metadata": {
        "colab": {
          "base_uri": "https://localhost:8080/"
        },
        "id": "XQTttL52sPGK",
        "outputId": "77333c94-0c81-4b86-b5f6-695d385b4524"
      },
      "execution_count": 34,
      "outputs": [
        {
          "output_type": "stream",
          "name": "stdout",
          "text": [
            "producto_punto: 55\n"
          ]
        }
      ]
    },
    {
      "cell_type": "markdown",
      "source": [
        "#6.-Funciones utiles.\n"
      ],
      "metadata": {
        "id": "rZIlXQH-sUks"
      }
    },
    {
      "cell_type": "markdown",
      "source": [
        "Devuelve la forma(dimensiones)del array como una tupla(numero de filas,numero de columnas)esencial para saber el tamaño del array."
      ],
      "metadata": {
        "id": "gn6W3Z59v27C"
      }
    },
    {
      "cell_type": "code",
      "source": [
        "#Obtener la forma del array\n",
        "forma_array1D = array1D.shape\n",
        "print(\"forma_array1D:\", forma_array1D)"
      ],
      "metadata": {
        "colab": {
          "base_uri": "https://localhost:8080/"
        },
        "id": "F6ISBuVcs1jv",
        "outputId": "8a39cfae-c943-4773-9203-904d8af57fc5"
      },
      "execution_count": 37,
      "outputs": [
        {
          "output_type": "stream",
          "name": "stdout",
          "text": [
            "forma_array1D: (2, 3)\n"
          ]
        }
      ]
    },
    {
      "cell_type": "markdown",
      "source": [
        "Devuelve el numero total de elementos en el array.Util para iteraciones o para hacer calculos que dependen del tamaño de los datos."
      ],
      "metadata": {
        "id": "XgdyDJr6wImN"
      }
    },
    {
      "cell_type": "code",
      "source": [
        "#Obtener el tamaño del array\n",
        "tamano_array1D = array1D.size\n",
        "print(\"tamano_array1D:\", tamano_array1D)"
      ],
      "metadata": {
        "colab": {
          "base_uri": "https://localhost:8080/"
        },
        "id": "KgxiIEN-tG0N",
        "outputId": "93dc8feb-7ef9-445b-9e14-7d0a4552e064"
      },
      "execution_count": 38,
      "outputs": [
        {
          "output_type": "stream",
          "name": "stdout",
          "text": [
            "tamano_array1D: 6\n"
          ]
        }
      ]
    },
    {
      "cell_type": "markdown",
      "source": [
        "Devuelve el tipo de datos de los elementos (ejemplo:int64,float64).Importante para entender el tipo de datos con el que estas trabajando y para evitar errores."
      ],
      "metadata": {
        "id": "6BdjADWMwYjT"
      }
    },
    {
      "cell_type": "code",
      "source": [
        "#Obtener tipos de datos\n",
        "tipo_dato_array1D = array1D.dtype\n",
        "print(\"tipo_dato_array1D:\", tipo_dato_array1D)"
      ],
      "metadata": {
        "colab": {
          "base_uri": "https://localhost:8080/"
        },
        "id": "Mupi9gsbtGNG",
        "outputId": "68198cec-9a28-406b-b41a-85c304672b43"
      },
      "execution_count": 39,
      "outputs": [
        {
          "output_type": "stream",
          "name": "stdout",
          "text": [
            "tipo_dato_array1D: int64\n"
          ]
        }
      ]
    },
    {
      "cell_type": "markdown",
      "source": [
        "Devuelve la transpuesta de la matriz.La transpuesta intercambia filas por columnas.Fundamental en algebra lineal."
      ],
      "metadata": {
        "id": "YqGcan_ewwge"
      }
    },
    {
      "cell_type": "code",
      "source": [
        "#Transponer un array\n",
        "transpuesta_array1D = array1D.T\n",
        "print(\"transpuesta_array1D:\", transpuesta_array1D)"
      ],
      "metadata": {
        "colab": {
          "base_uri": "https://localhost:8080/"
        },
        "id": "BGGnXlxGtF19",
        "outputId": "e09bc931-caa3-4e21-f158-c94e43f2ea95"
      },
      "execution_count": 40,
      "outputs": [
        {
          "output_type": "stream",
          "name": "stdout",
          "text": [
            "transpuesta_array1D: [[1 4]\n",
            " [2 5]\n",
            " [3 6]]\n"
          ]
        }
      ]
    }
  ]
}