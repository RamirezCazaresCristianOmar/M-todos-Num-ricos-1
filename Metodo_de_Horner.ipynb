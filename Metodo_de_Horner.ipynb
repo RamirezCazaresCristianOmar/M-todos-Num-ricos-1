{
  "cells": [
    {
      "cell_type": "markdown",
      "metadata": {
        "id": "view-in-github",
        "colab_type": "text"
      },
      "source": [
        "<a href=\"https://colab.research.google.com/github/RamirezCazaresCristianOmar/M-todos-Num-ricos-1/blob/main/Metodo_de_Horner.ipynb\" target=\"_parent\"><img src=\"https://colab.research.google.com/assets/colab-badge.svg\" alt=\"Open In Colab\"/></a>"
      ]
    },
    {
      "cell_type": "markdown",
      "id": "3154e14b",
      "metadata": {
        "id": "3154e14b"
      },
      "source": [
        "# Método de Horner"
      ]
    },
    {
      "cell_type": "markdown",
      "source": [
        "#Use el metodo de horner para evaluar P(x)=$2x^4-3x^2+3x-4$ en $X0=-2$"
      ],
      "metadata": {
        "id": "MkiRJNYyGV_f"
      },
      "id": "MkiRJNYyGV_f"
    },
    {
      "cell_type": "code",
      "execution_count": 1,
      "id": "9d5e2287",
      "metadata": {
        "id": "9d5e2287"
      },
      "outputs": [],
      "source": [
        "from math import *\n",
        "import numpy as np\n",
        "import matplotlib . pyplot as plt"
      ]
    },
    {
      "cell_type": "code",
      "execution_count": 2,
      "id": "db980446",
      "metadata": {
        "id": "db980446"
      },
      "outputs": [],
      "source": [
        "# Definimos la funcion original f(x)=2x^4-3x^2+3x-4\n",
        "def f(x):\n",
        "  # coeficientes del polinomio:[2, 0, -3, 3, -4] que representa la funcion original\n",
        "    return (((((2 * x) + 0) * x - 3) * x - 4)) # Evaluacion usando horner"
      ]
    },
    {
      "cell_type": "markdown",
      "source": [
        "#Derivamos la funcion $2x^4-3x^2+3x-1=0$, obtenemos la funcion  f'(x)=$8x^3-6x+3$"
      ],
      "metadata": {
        "id": "wxjJ5NvXJxgr"
      },
      "id": "wxjJ5NvXJxgr"
    },
    {
      "cell_type": "code",
      "source": [
        "# derivamos la funcion usando el metodo de horner\n",
        "def df(x):  #funcion f'(x)\n",
        "# derivada del polinomio f(x)=2x^4-3x^2+3x-4 es f'(x)=8x^3-6x+3\n",
        "    return (((8 * x) * x * x -6) * x + 3) # evaluacion de la derivada usando horner"
      ],
      "metadata": {
        "id": "cc6WDkClJao_"
      },
      "id": "cc6WDkClJao_",
      "execution_count": 3,
      "outputs": []
    },
    {
      "cell_type": "code",
      "execution_count": 11,
      "id": "679a51af",
      "metadata": {
        "id": "679a51af"
      },
      "outputs": [],
      "source": [
        "# guarda valores iniciales\n",
        "P0=-2\n",
        "#guarda valores iniciales del error y del número de iteraciones\n",
        "tol = 0.01 #tolerancia\n",
        "nmax = 100 #numero maximo de iteraciones\n",
        "error = 100 #nos esta dando la indicacion que el erro comienza en 100\n",
        "niter = 0 #contador de iteraciones"
      ]
    },
    {
      "cell_type": "code",
      "execution_count": 12,
      "id": "6b4c08a0",
      "metadata": {
        "colab": {
          "base_uri": "https://localhost:8080/"
        },
        "id": "6b4c08a0",
        "outputId": "609d1c6a-0f14-43ac-92ba-8d5ba9c17ac8"
      },
      "outputs": [
        {
          "output_type": "stream",
          "name": "stdout",
          "text": [
            "# iter\t\t Pn \t\t f(Pn) \t\t error\n",
            "0 \t\t -2.000000 \t -1.902098 \t 0.097902\n",
            "1 \t\t -1.902098 \t -1.800888 \t 0.101210\n",
            "2 \t\t -1.800888 \t -1.695953 \t 0.104935\n",
            "3 \t\t -1.695953 \t -1.586725 \t 0.109227\n",
            "4 \t\t -1.586725 \t -1.472388 \t 0.114337\n",
            "5 \t\t -1.472388 \t -1.351683 \t 0.120705\n",
            "6 \t\t -1.351683 \t -1.222524 \t 0.129159\n",
            "7 \t\t -1.222524 \t -1.081176 \t 0.141348\n",
            "8 \t\t -1.081176 \t -0.920335 \t 0.160841\n",
            "9 \t\t -0.920335 \t -0.724137 \t 0.196198\n",
            "10 \t\t -0.724137 \t -0.453090 \t 0.271047\n",
            "11 \t\t -0.453090 \t 0.013703 \t 0.466793\n",
            "12 \t\t 0.013703 \t 1.398694 \t 1.384991\n",
            "13 \t\t 1.398694 \t 1.506655 \t 0.107960\n",
            "14 \t\t 1.506655 \t 1.554396 \t 0.047742\n",
            "15 \t\t 1.554396 \t 1.582926 \t 0.028529\n",
            "16 \t\t 1.582926 \t 1.601592 \t 0.018666\n",
            "17 \t\t 1.601592 \t 1.614373 \t 0.012781\n",
            "18 \t\t 1.614373 \t 1.623362 \t 0.008989\n",
            "La solución usando el metodo de horner para P es = 1.623362 con un erro de 0.008989\n"
          ]
        }
      ],
      "source": [
        "#Metodo de Newton\n",
        "\n",
        "# Ciclo iterativo de newton\n",
        "\n",
        "# Imprime los encabezados de las columnas para mostrar la iteracion actual\n",
        "print(\"# iter\\t\\t Pn \\t\\t f(Pn) \\t\\t error\")\n",
        "\n",
        "# El ciclo se ejecuta mientras el error sea mayor que la tolerancia y no se supere el número máximo de iteraciones\n",
        "while error > tol and niter < nmax:\n",
        "\n",
        "    Pn = P0 - f(P0) / df(P0)  # Evalúa de la formula de newton\n",
        "    error = abs(Pn - P0)  # Calcula el error absoluto entre Pn y P0\n",
        "\n",
        "    # Imprimir el numero de iteracion, el valor de P0, Pn y el error\n",
        "    print(\"{0} \\t\\t {1:6.6f} \\t {2:6.6f} \\t {3:6.6f}\".format(niter, P0, Pn, error))\n",
        "\n",
        "    P0 = Pn  # Actualizamos el valor de P0 para la siguiente iteración\n",
        "    niter += 1  # Incrementa el contador de iteraciones\n",
        "\n",
        "# Imprime el resultado final, mostrando la solución aproximada y el error asociado cuando el ciclo termina\n",
        "print(\"La solución usando el metodo de horner para P es = {0:6.6f} con un erro de {1:6.6f}\".format(P0, error))\n"
      ]
    },
    {
      "cell_type": "code",
      "source": [
        "x=np.linspace(0,5,100)"
      ],
      "metadata": {
        "id": "GR-1Bh3YZmMO"
      },
      "execution_count": 13,
      "outputs": [],
      "id": "GR-1Bh3YZmMO"
    },
    {
      "cell_type": "code",
      "source": [
        "#Graficamos la funcion f(x)\n",
        "plt.plot(f(x), color=\"purple\") #funcion f(x)\n",
        "#Graficamos la derivacion de la funcion f(x)\n",
        "plt.plot(df(x), color=\"blue\")\n",
        "plt.axhline(0, color=\"blue\")\n",
        "plt.axvline(0, color=\"blue\")\n",
        "plt.xlabel('Abscisas')\n",
        "plt.ylabel('Ordenadas')\n",
        "plt.title('Metodo de Horner')\n",
        "plt.grid()\n",
        "plt.show()"
      ],
      "metadata": {
        "id": "EQoeIe0WMNav",
        "outputId": "e7feebb1-b9e0-4844-9248-17492eb7c0b6",
        "colab": {
          "base_uri": "https://localhost:8080/",
          "height": 472
        }
      },
      "execution_count": 15,
      "outputs": [
        {
          "output_type": "display_data",
          "data": {
            "text/plain": [
              "<Figure size 640x480 with 1 Axes>"
            ],
            "image/png": "[encoded data removed]"
          },
          "metadata": {}
        }
      ],
      "id": "EQoeIe0WMNav"
    }
  ],
  "metadata": {
    "kernelspec": {
      "display_name": "Python 3 (ipykernel)",
      "language": "python",
      "name": "python3"
    },
    "language_info": {
      "codemirror_mode": {
        "name": "ipython",
        "version": 3
      },
      "file_extension": ".py",
      "mimetype": "text/x-python",
      "name": "python",
      "nbconvert_exporter": "python",
      "pygments_lexer": "ipython3",
      "version": "3.7.3"
    },
    "colab": {
      "provenance": [],
      "include_colab_link": true
    }
  },
  "nbformat": 4,
  "nbformat_minor": 5
}