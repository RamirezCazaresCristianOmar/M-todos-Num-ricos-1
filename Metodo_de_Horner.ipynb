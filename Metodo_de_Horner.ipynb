{
  "cells": [
    {
      "cell_type": "markdown",
      "metadata": {
        "id": "view-in-github",
        "colab_type": "text"
      },
      "source": [
        "<a href=\"https://colab.research.google.com/github/RamirezCazaresCristianOmar/M-todos-Num-ricos-1/blob/main/Metodo_de_Horner.ipynb\" target=\"_parent\"><img src=\"https://colab.research.google.com/assets/colab-badge.svg\" alt=\"Open In Colab\"/></a>"
      ]
    },
    {
      "cell_type": "markdown",
      "id": "3154e14b",
      "metadata": {
        "id": "3154e14b"
      },
      "source": [
        "# Método de Horner"
      ]
    },
    {
      "cell_type": "markdown",
      "source": [
        "#Use el metodo de horner para evaluar P(x)=$2x^4-3x^2+3x-4$ en $X0=-2$"
      ],
      "metadata": {
        "id": "MkiRJNYyGV_f"
      },
      "id": "MkiRJNYyGV_f"
    },
    {
      "cell_type": "code",
      "execution_count": 41,
      "id": "9d5e2287",
      "metadata": {
        "id": "9d5e2287"
      },
      "outputs": [],
      "source": [
        "from math import *\n",
        "import numpy as np\n",
        "import matplotlib . pyplot as plt\n",
        "import sympy as sym"
      ]
    },
    {
      "cell_type": "code",
      "execution_count": 42,
      "id": "db980446",
      "metadata": {
        "id": "db980446"
      },
      "outputs": [],
      "source": [
        "#Polinomio Original\n",
        "def p(x):\n",
        "  return 2*x**4 - 3*x**2 + 3*x - 4\n"
      ]
    },
    {
      "cell_type": "markdown",
      "source": [
        "#Derivamos el polinomio $2x^4-3x^2+3x-4=0$ los que nos da la siguiente funcion: $8x^3-6x+3$"
      ],
      "metadata": {
        "id": "xFdHsw571r1i"
      },
      "id": "xFdHsw571r1i"
    },
    {
      "cell_type": "code",
      "source": [
        "#Derivada del Polinomio\n",
        "def dp(x):\n",
        "  return 8*x**3 - 6*x + 3"
      ],
      "metadata": {
        "id": "l0rsqt2H1qzI"
      },
      "id": "l0rsqt2H1qzI",
      "execution_count": 43,
      "outputs": []
    },
    {
      "cell_type": "code",
      "source": [
        "# Ingreso de los valores iniciales\n",
        "x0 = -2  # Valor inicial\n",
        "Tol = 0.0001  # Tolerancia\n",
        "Nmax = 100  # Número máximo de iteraciones\n",
        "error = 100  # Inicializamos un error grande\n",
        "niter = 0  # Inicializamos el contador de iteraciones"
      ],
      "metadata": {
        "id": "7X6phmrZ1RTX"
      },
      "id": "7X6phmrZ1RTX",
      "execution_count": 44,
      "outputs": []
    },
    {
      "cell_type": "markdown",
      "source": [
        "#Aplicamos el metodo de Horner conjuntamente con el de Newton"
      ],
      "metadata": {
        "id": "CcaAOUPN1hNz"
      },
      "id": "CcaAOUPN1hNz"
    },
    {
      "cell_type": "code",
      "source": [
        "#Método de Horner\n",
        "# Encabezado de la tabla\n",
        "print(\"# iter\\t Pn \\t\\t f(Pn) \\t\\t f'(Pn) \\t Pn+1 \\t\\t Error\")\n",
        "\n",
        "# Primer valor de Pn, usando P0\n",
        "Pn = x0\n",
        "f_Pn = p(Pn)\n",
        "fd_Pn = dp(Pn)\n",
        "\n",
        "# Calcular el primer valor de Pn+1\n",
        "Pn_1 = Pn - f_Pn / fd_Pn\n",
        "\n",
        "# Imprimir la primera fila\n",
        "print(\"{0}\\t {1:6.6f} \\t {2:6.6f} \\t {3:6.6f} \\t {4:6.6f} \\t {5:6.6f}\".format(1, Pn, f_Pn, fd_Pn, Pn_1, error))\n",
        "\n",
        "# Ciclo iterativo del método de Newton\n",
        "while error > Tol and niter < Nmax:\n",
        "    niter += 1\n",
        "\n",
        "    # Actualizar el valor de Pn\n",
        "    Pn = Pn_1\n",
        "\n",
        "    # Calcular f(Pn) y f'(Pn)\n",
        "    f_Pn = p(Pn)\n",
        "    fd_Pn = dp(Pn)\n",
        "\n",
        "    # Calcular el nuevo valor de Pn+1 usando la fórmula de Newton\n",
        "    Pn_1 = Pn - f_Pn / fd_Pn\n",
        "\n",
        "    # Calcular el error\n",
        "    error = abs(Pn_1 - Pn)\n",
        "\n",
        "    # Imprimir los valores de la iteración\n",
        "    print(\"{0}\\t {1:6.6f} \\t {2:6.6f} \\t {3:6.6f} \\t {4:6.6f} \\t {5:6.6f}\".format(niter + 1, Pn, f_Pn, fd_Pn, Pn_1, error))\n",
        "\n",
        "\n",
        "# Imprimir el resultado final\n",
        "print(\"\\nLa solución aproximada utilizando el método de Horner es la raiz P = {0:6.6f} con un error de {1:6.6f}\".format(Pn, error))\n"
      ],
      "metadata": {
        "colab": {
          "base_uri": "https://localhost:8080/"
        },
        "id": "k2PPf5Oh1X8B",
        "outputId": "2cd43b60-7378-4b79-dbf3-62e5838fde3c"
      },
      "id": "k2PPf5Oh1X8B",
      "execution_count": 45,
      "outputs": [
        {
          "output_type": "stream",
          "name": "stdout",
          "text": [
            "# iter\t Pn \t\t f(Pn) \t\t f'(Pn) \t Pn+1 \t\t Error\n",
            "1\t -2.000000 \t 10.000000 \t -49.000000 \t -1.795918 \t 100.000000\n",
            "2\t -1.795918 \t 1.741691 \t -32.563821 \t -1.742433 \t 0.053485\n",
            "3\t -1.742433 \t 0.099956 \t -28.866623 \t -1.738970 \t 0.003463\n",
            "4\t -1.738970 \t 0.000400 \t -28.635590 \t -1.738956 \t 0.000014\n",
            "\n",
            "La solución aproximada utilizando el método de Horner es la raiz P = -1.738970 con un error de 0.000014\n"
          ]
        }
      ]
    },
    {
      "cell_type": "code",
      "source": [
        "# Valores del eje X que toma el gráfico.\n",
        "x=np.linspace(-20, 20, 400)"
      ],
      "metadata": {
        "id": "kCAdEWf70-MH"
      },
      "id": "kCAdEWf70-MH",
      "execution_count": 63,
      "outputs": []
    },
    {
      "cell_type": "code",
      "source": [
        "# Graficamos el polinomio\n",
        "plt.plot(x, p(x), color=\"Blue\")\n",
        "plt.plot(x, dp(x), color=\"green\")\n",
        "plt.axhline(0, color=\"black\")\n",
        "plt.axvline(0, color=\"black\")\n",
        "plt.xlim(-10, 10)\n",
        "plt.ylim(-10, 10)\n",
        "plt.xlabel(\"x\")\n",
        "plt.ylabel(\"y\")\n",
        "plt.title(\"Metodo de Horner\")\n",
        "plt.grid(color=\"blue\")\n",
        "# Coordenadas de la raiz de P(x)\n",
        "x = [-1.738956]\n",
        "y = [0]\n",
        "plt.plot(x, y, \"o\", color=\"black\")\n",
        "plt.legend([\"Polinomio\", \"Derivada\", \"Raiz\"])\n",
        "plt.show()\n"
      ],
      "metadata": {
        "colab": {
          "base_uri": "https://localhost:8080/",
          "height": 472
        },
        "id": "yPF0Uy-Y1CVm",
        "outputId": "92d6c1be-d361-4461-d798-20c05cc6db48"
      },
      "id": "yPF0Uy-Y1CVm",
      "execution_count": 62,
      "outputs": [
        {
          "data": {
            "image/png": "[encoded data removed]",
            "text/plain": [
              "<Figure size 640x480 with 1 Axes>"
            ]
          },
          "metadata": {},
          "output_type": "display_data"
        }
      ]
    }
  ],
  "metadata": {
    "kernelspec": {
      "display_name": "Python 3 (ipykernel)",
      "language": "python",
      "name": "python3"
    },
    "language_info": {
      "codemirror_mode": {
        "name": "ipython",
        "version": 3
      },
      "file_extension": ".py",
      "mimetype": "text/x-python",
      "name": "python",
      "nbconvert_exporter": "python",
      "pygments_lexer": "ipython3",
      "version": "3.7.3"
    },
    "colab": {
      "provenance": [],
      "include_colab_link": true
    }
  },
  "nbformat": 4,
  "nbformat_minor": 5
}